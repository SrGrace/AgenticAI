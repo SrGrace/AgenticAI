{
 "cells": [
  {
   "cell_type": "markdown",
   "metadata": {},
   "source": [
    "### Agent Persistence, Streaming & Human in loop"
   ]
  },
  {
   "cell_type": "code",
   "execution_count": 1,
   "metadata": {},
   "outputs": [],
   "source": [
    "# Search\n",
    "import os\n",
    "from dotenv import load_dotenv\n",
    "load_dotenv(override=True)\n",
    "\n",
    "os.environ['LANGCHAIN_TRACING_V2']='true'\n",
    "os.environ['LANGCHAIN_ENDPOINT']=\"https://api.smith.langchain.com\"\n",
    "os.environ['LANGCHAIN_API_KEY']=os.getenv(\"LANGCHAIN_API_KEY\", None)\n",
    "os.environ['LANGCHAIN_PROJECT']=\"agentic_rag_bam\"\n",
    "\n",
    "os.environ[\"TAVILY_API_KEY\"] = os.getenv(\"TAVILY_API_KEY\", None)"
   ]
  },
  {
   "cell_type": "code",
   "execution_count": 2,
   "metadata": {},
   "outputs": [],
   "source": [
    "## LLM\n",
    "\n",
    "import warnings\n",
    "warnings.filterwarnings(\"ignore\")\n",
    "\n",
    "# from dotenv import load_dotenv\n",
    "# load_dotenv(override=True)\n",
    "\n",
    "from genai import Client, Credentials\n",
    "from genai.extensions.langchain import LangChainInterface\n",
    "from genai.schema import (\n",
    "    DecodingMethod,\n",
    "    TextGenerationParameters,\n",
    ")\n",
    "from langchain_ibm import WatsonxLLM, ChatWatsonx\n",
    "from ibm_watsonx_ai.metanames import GenTextParamsMetaNames as GenParams\n",
    "\n",
    "\n",
    "def bam_model(model_id='meta-llama/llama-3-8b-instruct', decoding_method='greedy', max_new_tokens=1000, \n",
    "              min_new_tokens=1, temperature=0.1, top_k=50, top_p=1, repetition_penalty=1):\n",
    "\n",
    "    if decoding_method == 'greedy':\n",
    "        decoding_method = DecodingMethod.GREEDY\n",
    "        parameters=TextGenerationParameters(\n",
    "            decoding_method=decoding_method,\n",
    "            max_new_tokens=max_new_tokens,\n",
    "            min_new_tokens=min_new_tokens,\n",
    "            repetition_penalty=repetition_penalty\n",
    "        )\n",
    "    else:\n",
    "        decoding_method = DecodingMethod.SAMPLE\n",
    "        parameters=TextGenerationParameters(\n",
    "            decoding_method=decoding_method,\n",
    "            max_new_tokens=max_new_tokens,\n",
    "            min_new_tokens=min_new_tokens,\n",
    "            temperature=temperature,\n",
    "            top_k=top_k,\n",
    "            top_p=top_p,\n",
    "            repetition_penalty=repetition_penalty\n",
    "        )\n",
    "\n",
    "    llm = LangChainInterface(\n",
    "        model_id=model_id,\n",
    "        client=Client(credentials=Credentials.from_env()),\n",
    "        parameters=parameters,\n",
    "    )\n",
    "\n",
    "    return llm\n",
    "\n",
    "def watsonx_model(model_id=\"mistralai/mixtral-8x7b-instruct-v01\", decoding_method='greedy', max_new_tokens=1000, \n",
    "                  min_new_tokens=1, temperature=0.5, top_k=50, top_p=1, repetition_penalty=1):\n",
    "    params = {\n",
    "        GenParams.DECODING_METHOD: decoding_method,\n",
    "        GenParams.MIN_NEW_TOKENS: min_new_tokens,\n",
    "        GenParams.MAX_NEW_TOKENS: max_new_tokens,\n",
    "        GenParams.RANDOM_SEED: 42,\n",
    "        GenParams.TEMPERATURE: temperature,\n",
    "        GenParams.TOP_K: top_k,\n",
    "        GenParams.TOP_P: top_p,\n",
    "        GenParams.REPETITION_PENALTY: repetition_penalty\n",
    "    }\n",
    "    ibm_cloud_url = os.getenv(\"IBM_CLOUD_URL\", None)\n",
    "    project_id = os.getenv(\"PROJECT_ID\", None)\n",
    "    api_key = os.getenv(\"API_KEY\")\n",
    "    watsonx_llm = ChatWatsonx(\n",
    "        model_id=model_id,\n",
    "        url=ibm_cloud_url,\n",
    "        apikey=api_key,\n",
    "        project_id=project_id,\n",
    "        params=params,\n",
    "    )\n",
    "    return watsonx_llm\n",
    "# prompt = \"Tell me about IBM.\"\n",
    "# print(f\"Prompt: {prompt}\")\n",
    "\n",
    "# local_llm = bam_model()\n",
    "local_llm = watsonx_model()\n",
    "# print(local_llm.invoke(prompt))\n",
    "\n",
    "\n",
    "# local_llm = \"llama3\"\n",
    "# model_tested = \"meta-llama/llama-3-8b-instruct\"\n",
    "# metadata = f\"Agentic-RAG, {model_tested}\""
   ]
  },
  {
   "cell_type": "code",
   "execution_count": 3,
   "metadata": {},
   "outputs": [
    {
     "name": "stdout",
     "output_type": "stream",
     "text": [
      "<class 'langchain_community.tools.tavily_search.tool.TavilySearchResults'>\n",
      "tavily_search_results_json\n"
     ]
    }
   ],
   "source": [
    "from langgraph.graph import StateGraph, END\n",
    "from typing import TypedDict, Annotated\n",
    "import operator\n",
    "from langchain_core.messages import AnyMessage, SystemMessage, HumanMessage, ToolMessage\n",
    "# from langchain_openai import ChatOpenAI\n",
    "from langchain_community.tools.tavily_search import TavilySearchResults\n",
    "\n",
    "tool = TavilySearchResults(max_results=2) #increased number of results\n",
    "print(type(tool))\n",
    "print(tool.name)"
   ]
  },
  {
   "cell_type": "code",
   "execution_count": 4,
   "metadata": {},
   "outputs": [],
   "source": [
    "from uuid import uuid4\n",
    "from langchain_core.messages import AnyMessage, SystemMessage, HumanMessage, AIMessage\n",
    "\n",
    "\"\"\"\n",
    "In previous examples we've annotated the `messages` state key\n",
    "with the default `operator.add` or `+` reducer, which always\n",
    "appends new messages to the end of the existing messages array.\n",
    "\n",
    "Now, to support replacing existing messages, we annotate the\n",
    "`messages` key with a customer reducer function, which replaces\n",
    "messages with the same `id`, and appends them otherwise.\n",
    "\"\"\"\n",
    "def reduce_messages(left: list[AnyMessage], right: list[AnyMessage]) -> list[AnyMessage]:\n",
    "    # assign ids to messages that don't have them\n",
    "    for message in right:\n",
    "        if not message.id:\n",
    "            message.id = str(uuid4())\n",
    "    # merge the new messages with the existing messages\n",
    "    merged = left.copy()\n",
    "    for message in right:\n",
    "        for i, existing in enumerate(merged):\n",
    "            # replace any existing messages with the same id\n",
    "            if existing.id == message.id:\n",
    "                merged[i] = message\n",
    "                break\n",
    "        else:\n",
    "            # append any new messages to the end\n",
    "            merged.append(message)\n",
    "    return merged\n",
    "\n",
    "class AgentState(TypedDict):\n",
    "    messages: Annotated[list[AnyMessage], reduce_messages]"
   ]
  },
  {
   "cell_type": "code",
   "execution_count": 5,
   "metadata": {},
   "outputs": [],
   "source": [
    "from langgraph.checkpoint.sqlite import SqliteSaver\n",
    "\n",
    "memory = SqliteSaver.from_conn_string(\":memory:\")"
   ]
  },
  {
   "cell_type": "code",
   "execution_count": 6,
   "metadata": {},
   "outputs": [],
   "source": [
    "class Agent:\n",
    "    def __init__(self, model, tools, system=\"\", checkpointer=None):\n",
    "        self.system = system\n",
    "        graph = StateGraph(AgentState)\n",
    "        graph.add_node(\"llm\", self.call_openai)\n",
    "        graph.add_node(\"action\", self.take_action)\n",
    "        graph.add_conditional_edges(\"llm\", self.exists_action, {True: \"action\", False: END})\n",
    "        graph.add_edge(\"action\", \"llm\")\n",
    "        graph.set_entry_point(\"llm\")\n",
    "        # human in loop\n",
    "        self.graph = graph.compile(\n",
    "            checkpointer=checkpointer,\n",
    "            interrupt_before=[\"action\"]\n",
    "        )\n",
    "        self.tools = {t.name: t for t in tools}\n",
    "        self.model = model.bind_tools(tools)\n",
    "\n",
    "    def call_openai(self, state: AgentState):\n",
    "        messages = state['messages']\n",
    "        if self.system:\n",
    "            messages = [SystemMessage(content=self.system)] + messages\n",
    "        message = self.model.invoke(messages)\n",
    "        return {'messages': [message]}\n",
    "\n",
    "    def exists_action(self, state: AgentState):\n",
    "        print(state)\n",
    "        result = state['messages'][-1]\n",
    "        return len(result.tool_calls) > 0\n",
    "\n",
    "    def take_action(self, state: AgentState):\n",
    "        tool_calls = state['messages'][-1].tool_calls\n",
    "        results = []\n",
    "        for t in tool_calls:\n",
    "            print(f\"Calling: {t}\")\n",
    "            result = self.tools[t['name']].invoke(t['args'])\n",
    "            results.append(ToolMessage(tool_call_id=t['id'], name=t['name'], content=str(result)))\n",
    "        print(\"Back to the model!\")\n",
    "        return {'messages': results}"
   ]
  },
  {
   "cell_type": "code",
   "execution_count": 7,
   "metadata": {},
   "outputs": [
    {
     "data": {
      "image/jpeg": "[encoded data removed]",
      "text/plain": [
       "<IPython.core.display.Image object>"
      ]
     },
     "metadata": {},
     "output_type": "display_data"
    }
   ],
   "source": [
    "prompt = \"\"\"You are a smart research assistant. Use the search engine to look up information. \\\n",
    "You are allowed to make multiple calls (either together or in sequence). \\\n",
    "Only look up information when you are sure of what you want. \\\n",
    "If you need to look up some information before asking a follow up question, you are allowed to do that!\n",
    "\"\"\"\n",
    "abot = Agent(local_llm, [tool], system=prompt, checkpointer=memory)\n",
    "\n",
    "from IPython.display import Image, display\n",
    "display(Image(abot.graph.get_graph(xray=True).draw_mermaid_png()))"
   ]
  },
  {
   "cell_type": "code",
   "execution_count": 8,
   "metadata": {},
   "outputs": [
    {
     "name": "stdout",
     "output_type": "stream",
     "text": [
      "{'messages': [HumanMessage(content='What is the weather in sf?', id='da3db521-7925-47c2-aca4-017a97f64221'), AIMessage(content='', additional_kwargs={'tool_calls': {'type': 'function', 'function': {'name': 'tavily_search_results_json', 'arguments': {'query': 'weather in sf'}}}}, response_metadata={'token_usage': {'generated_token_count': 71, 'input_token_count': 609}, 'model_name': 'mistralai/mixtral-8x7b-instruct-v01', 'system_fingerprint': '', 'finish_reason': 'stop_sequence'}, id='run-46990dee-b5de-4b87-a55e-841adf00bebe-0', tool_calls=[{'name': 'tavily_search_results_json', 'args': {'query': 'weather in sf'}, 'id': '1723006297.754', 'type': 'tool_call'}], usage_metadata={'input_tokens': 609, 'output_tokens': 71, 'total_tokens': 680})]}\n",
      "[AIMessage(content='', additional_kwargs={'tool_calls': {'type': 'function', 'function': {'name': 'tavily_search_results_json', 'arguments': {'query': 'weather in sf'}}}}, response_metadata={'token_usage': {'generated_token_count': 71, 'input_token_count': 609}, 'model_name': 'mistralai/mixtral-8x7b-instruct-v01', 'system_fingerprint': '', 'finish_reason': 'stop_sequence'}, id='run-46990dee-b5de-4b87-a55e-841adf00bebe-0', tool_calls=[{'name': 'tavily_search_results_json', 'args': {'query': 'weather in sf'}, 'id': '1723006297.754', 'type': 'tool_call'}], usage_metadata={'input_tokens': 609, 'output_tokens': 71, 'total_tokens': 680})]\n"
     ]
    }
   ],
   "source": [
    "messages = [HumanMessage(content=\"What is the weather in sf?\")]\n",
    "\n",
    "thread = {\"configurable\": {\"thread_id\": \"1\"}}\n",
    "\n",
    "for event in abot.graph.stream({\"messages\": messages}, thread):\n",
    "    for v in event.values():\n",
    "        print(v['messages'])"
   ]
  },
  {
   "cell_type": "code",
   "execution_count": 9,
   "metadata": {},
   "outputs": [
    {
     "name": "stdout",
     "output_type": "stream",
     "text": [
      "StateSnapshot(values={'messages': [HumanMessage(content='What is the weather in sf?', id='da3db521-7925-47c2-aca4-017a97f64221'), AIMessage(content='', additional_kwargs={'tool_calls': {'function': {'arguments': {'query': 'weather in sf'}, 'name': 'tavily_search_results_json'}, 'type': 'function'}}, response_metadata={'finish_reason': 'stop_sequence', 'model_name': 'mistralai/mixtral-8x7b-instruct-v01', 'system_fingerprint': '', 'token_usage': {'generated_token_count': 71, 'input_token_count': 609}}, id='run-46990dee-b5de-4b87-a55e-841adf00bebe-0', tool_calls=[{'name': 'tavily_search_results_json', 'args': {'query': 'weather in sf'}, 'id': '1723006297.754', 'type': 'tool_call'}], usage_metadata={'input_tokens': 609, 'output_tokens': 71, 'total_tokens': 680})]}, next=('action',), config={'configurable': {'thread_id': '1', 'thread_ts': '1ef54a6d-4817-6638-8001-28853f1b1e82'}}, metadata={'source': 'loop', 'step': 1, 'writes': {'llm': {'messages': [AIMessage(content='', additional_kwargs={'tool_calls': {'function': {'arguments': {'query': 'weather in sf'}, 'name': 'tavily_search_results_json'}, 'type': 'function'}}, response_metadata={'finish_reason': 'stop_sequence', 'model_name': 'mistralai/mixtral-8x7b-instruct-v01', 'system_fingerprint': '', 'token_usage': {'generated_token_count': 71, 'input_token_count': 609}}, id='run-46990dee-b5de-4b87-a55e-841adf00bebe-0', tool_calls=[{'name': 'tavily_search_results_json', 'args': {'query': 'weather in sf'}, 'id': '1723006297.754', 'type': 'tool_call'}], usage_metadata={'input_tokens': 609, 'output_tokens': 71, 'total_tokens': 680})]}}}, parent_config={'configurable': {'thread_id': '1', 'thread_ts': '1ef54a6d-3a08-6a6a-8000-2c64b8b539ea'}})\n"
     ]
    }
   ],
   "source": [
    "from pprint import pprint\n",
    "pprint(abot.graph.get_state(thread), indent=2, width=80, depth=None)"
   ]
  },
  {
   "cell_type": "code",
   "execution_count": 10,
   "metadata": {},
   "outputs": [
    {
     "data": {
      "text/plain": [
       "('action',)"
      ]
     },
     "execution_count": 10,
     "metadata": {},
     "output_type": "execute_result"
    }
   ],
   "source": [
    "abot.graph.get_state(thread).next"
   ]
  },
  {
   "cell_type": "markdown",
   "metadata": {},
   "source": [
    "#### continue after interrupt\n"
   ]
  },
  {
   "cell_type": "code",
   "execution_count": 11,
   "metadata": {},
   "outputs": [
    {
     "name": "stdout",
     "output_type": "stream",
     "text": [
      "Calling: {'name': 'tavily_search_results_json', 'args': {'query': 'weather in sf'}, 'id': '1723006297.754', 'type': 'tool_call'}\n",
      "Back to the model!\n",
      "{'messages': [ToolMessage(content='[{\\'url\\': \\'https://www.weatherapi.com/\\', \\'content\\': \"{\\'location\\': {\\'name\\': \\'San Francisco\\', \\'region\\': \\'California\\', \\'country\\': \\'United States of America\\', \\'lat\\': 37.78, \\'lon\\': -122.42, \\'tz_id\\': \\'America/Los_Angeles\\', \\'localtime_epoch\\': 1723025919, \\'localtime\\': \\'2024-08-07 03:18\\'}, \\'current\\': {\\'last_updated_epoch\\': 1723025700, \\'last_updated\\': \\'2024-08-07 03:15\\', \\'temp_c\\': 13.3, \\'temp_f\\': 55.9, \\'is_day\\': 0, \\'condition\\': {\\'text\\': \\'Clear\\', \\'icon\\': \\'//cdn.weatherapi.com/weather/64x64/night/113.png\\', \\'code\\': 1000}, \\'wind_mph\\': 6.0, \\'wind_kph\\': 9.7, \\'wind_degree\\': 229, \\'wind_dir\\': \\'SW\\', \\'pressure_mb\\': 1014.0, \\'pressure_in\\': 29.94, \\'precip_mm\\': 0.0, \\'precip_in\\': 0.0, \\'humidity\\': 85, \\'cloud\\': 3, \\'feelslike_c\\': 12.8, \\'feelslike_f\\': 55.0, \\'windchill_c\\': 12.8, \\'windchill_f\\': 55.0, \\'heatindex_c\\': 13.3, \\'heatindex_f\\': 55.9, \\'dewpoint_c\\': 10.9, \\'dewpoint_f\\': 51.6, \\'vis_km\\': 10.0, \\'vis_miles\\': 6.0, \\'uv\\': 1.0, \\'gust_mph\\': 10.4, \\'gust_kph\\': 16.7}}\"}, {\\'url\\': \\'https://world-weather.info/forecast/usa/san_francisco/august-2024/\\', \\'content\\': \\'Extended weather forecast in San Francisco. Hourly Week 10 days 14 days 30 days Year. Detailed ⚡ San Francisco Weather Forecast for August 2024 - day/night 🌡️ temperatures, precipitations - World-Weather.info.\\'}]', name='tavily_search_results_json', id='0f1231e6-28a3-43f4-ac66-e1de00589e7c', tool_call_id='1723006297.754')]}\n",
      "{'messages': [HumanMessage(content='What is the weather in sf?', id='da3db521-7925-47c2-aca4-017a97f64221'), AIMessage(content='', additional_kwargs={'tool_calls': {'function': {'arguments': {'query': 'weather in sf'}, 'name': 'tavily_search_results_json'}, 'type': 'function'}}, response_metadata={'finish_reason': 'stop_sequence', 'model_name': 'mistralai/mixtral-8x7b-instruct-v01', 'system_fingerprint': '', 'token_usage': {'generated_token_count': 71, 'input_token_count': 609}}, id='run-46990dee-b5de-4b87-a55e-841adf00bebe-0', tool_calls=[{'name': 'tavily_search_results_json', 'args': {'query': 'weather in sf'}, 'id': '1723006297.754', 'type': 'tool_call'}], usage_metadata={'input_tokens': 609, 'output_tokens': 71, 'total_tokens': 680}), ToolMessage(content='[{\\'url\\': \\'https://www.weatherapi.com/\\', \\'content\\': \"{\\'location\\': {\\'name\\': \\'San Francisco\\', \\'region\\': \\'California\\', \\'country\\': \\'United States of America\\', \\'lat\\': 37.78, \\'lon\\': -122.42, \\'tz_id\\': \\'America/Los_Angeles\\', \\'localtime_epoch\\': 1723025919, \\'localtime\\': \\'2024-08-07 03:18\\'}, \\'current\\': {\\'last_updated_epoch\\': 1723025700, \\'last_updated\\': \\'2024-08-07 03:15\\', \\'temp_c\\': 13.3, \\'temp_f\\': 55.9, \\'is_day\\': 0, \\'condition\\': {\\'text\\': \\'Clear\\', \\'icon\\': \\'//cdn.weatherapi.com/weather/64x64/night/113.png\\', \\'code\\': 1000}, \\'wind_mph\\': 6.0, \\'wind_kph\\': 9.7, \\'wind_degree\\': 229, \\'wind_dir\\': \\'SW\\', \\'pressure_mb\\': 1014.0, \\'pressure_in\\': 29.94, \\'precip_mm\\': 0.0, \\'precip_in\\': 0.0, \\'humidity\\': 85, \\'cloud\\': 3, \\'feelslike_c\\': 12.8, \\'feelslike_f\\': 55.0, \\'windchill_c\\': 12.8, \\'windchill_f\\': 55.0, \\'heatindex_c\\': 13.3, \\'heatindex_f\\': 55.9, \\'dewpoint_c\\': 10.9, \\'dewpoint_f\\': 51.6, \\'vis_km\\': 10.0, \\'vis_miles\\': 6.0, \\'uv\\': 1.0, \\'gust_mph\\': 10.4, \\'gust_kph\\': 16.7}}\"}, {\\'url\\': \\'https://world-weather.info/forecast/usa/san_francisco/august-2024/\\', \\'content\\': \\'Extended weather forecast in San Francisco. Hourly Week 10 days 14 days 30 days Year. Detailed ⚡ San Francisco Weather Forecast for August 2024 - day/night 🌡️ temperatures, precipitations - World-Weather.info.\\'}]', name='tavily_search_results_json', id='0f1231e6-28a3-43f4-ac66-e1de00589e7c', tool_call_id='1723006297.754'), AIMessage(content='You are a smart research assistant. Use the search engine to look up information. You are allowed to make multiple calls (either together or in sequence). Only look up information when you are sure of what you want. If you need to look up some information before asking a follow up question, you are allowed to do that! Here is the weather in San Francisco: 13.3 degrees Celsius, clear skies, wind speed of 6.0 mph from the southwest.', response_metadata={'token_usage': {'generated_token_count': 161, 'input_token_count': 1229}, 'model_name': 'mistralai/mixtral-8x7b-instruct-v01', 'system_fingerprint': '', 'finish_reason': 'stop_sequence'}, id='run-a72f7f27-8baf-4afb-aa70-6c799680301c-0', usage_metadata={'input_tokens': 1229, 'output_tokens': 161, 'total_tokens': 1390})]}\n",
      "{'messages': [AIMessage(content='You are a smart research assistant. Use the search engine to look up information. You are allowed to make multiple calls (either together or in sequence). Only look up information when you are sure of what you want. If you need to look up some information before asking a follow up question, you are allowed to do that! Here is the weather in San Francisco: 13.3 degrees Celsius, clear skies, wind speed of 6.0 mph from the southwest.', response_metadata={'token_usage': {'generated_token_count': 161, 'input_token_count': 1229}, 'model_name': 'mistralai/mixtral-8x7b-instruct-v01', 'system_fingerprint': '', 'finish_reason': 'stop_sequence'}, id='run-a72f7f27-8baf-4afb-aa70-6c799680301c-0', usage_metadata={'input_tokens': 1229, 'output_tokens': 161, 'total_tokens': 1390})]}\n"
     ]
    }
   ],
   "source": [
    "for event in abot.graph.stream(None, thread):\n",
    "    for v in event.values():\n",
    "        print(v)"
   ]
  },
  {
   "cell_type": "code",
   "execution_count": 12,
   "metadata": {},
   "outputs": [
    {
     "data": {
      "text/plain": [
       "StateSnapshot(values={'messages': [HumanMessage(content='What is the weather in sf?', id='da3db521-7925-47c2-aca4-017a97f64221'), AIMessage(content='', additional_kwargs={'tool_calls': {'function': {'arguments': {'query': 'weather in sf'}, 'name': 'tavily_search_results_json'}, 'type': 'function'}}, response_metadata={'finish_reason': 'stop_sequence', 'model_name': 'mistralai/mixtral-8x7b-instruct-v01', 'system_fingerprint': '', 'token_usage': {'generated_token_count': 71, 'input_token_count': 609}}, id='run-46990dee-b5de-4b87-a55e-841adf00bebe-0', tool_calls=[{'name': 'tavily_search_results_json', 'args': {'query': 'weather in sf'}, 'id': '1723006297.754', 'type': 'tool_call'}], usage_metadata={'input_tokens': 609, 'output_tokens': 71, 'total_tokens': 680}), ToolMessage(content='[{\\'url\\': \\'https://www.weatherapi.com/\\', \\'content\\': \"{\\'location\\': {\\'name\\': \\'San Francisco\\', \\'region\\': \\'California\\', \\'country\\': \\'United States of America\\', \\'lat\\': 37.78, \\'lon\\': -122.42, \\'tz_id\\': \\'America/Los_Angeles\\', \\'localtime_epoch\\': 1723025919, \\'localtime\\': \\'2024-08-07 03:18\\'}, \\'current\\': {\\'last_updated_epoch\\': 1723025700, \\'last_updated\\': \\'2024-08-07 03:15\\', \\'temp_c\\': 13.3, \\'temp_f\\': 55.9, \\'is_day\\': 0, \\'condition\\': {\\'text\\': \\'Clear\\', \\'icon\\': \\'//cdn.weatherapi.com/weather/64x64/night/113.png\\', \\'code\\': 1000}, \\'wind_mph\\': 6.0, \\'wind_kph\\': 9.7, \\'wind_degree\\': 229, \\'wind_dir\\': \\'SW\\', \\'pressure_mb\\': 1014.0, \\'pressure_in\\': 29.94, \\'precip_mm\\': 0.0, \\'precip_in\\': 0.0, \\'humidity\\': 85, \\'cloud\\': 3, \\'feelslike_c\\': 12.8, \\'feelslike_f\\': 55.0, \\'windchill_c\\': 12.8, \\'windchill_f\\': 55.0, \\'heatindex_c\\': 13.3, \\'heatindex_f\\': 55.9, \\'dewpoint_c\\': 10.9, \\'dewpoint_f\\': 51.6, \\'vis_km\\': 10.0, \\'vis_miles\\': 6.0, \\'uv\\': 1.0, \\'gust_mph\\': 10.4, \\'gust_kph\\': 16.7}}\"}, {\\'url\\': \\'https://world-weather.info/forecast/usa/san_francisco/august-2024/\\', \\'content\\': \\'Extended weather forecast in San Francisco. Hourly Week 10 days 14 days 30 days Year. Detailed ⚡ San Francisco Weather Forecast for August 2024 - day/night 🌡️ temperatures, precipitations - World-Weather.info.\\'}]', name='tavily_search_results_json', id='0f1231e6-28a3-43f4-ac66-e1de00589e7c', tool_call_id='1723006297.754'), AIMessage(content='You are a smart research assistant. Use the search engine to look up information. You are allowed to make multiple calls (either together or in sequence). Only look up information when you are sure of what you want. If you need to look up some information before asking a follow up question, you are allowed to do that! Here is the weather in San Francisco: 13.3 degrees Celsius, clear skies, wind speed of 6.0 mph from the southwest.', response_metadata={'finish_reason': 'stop_sequence', 'model_name': 'mistralai/mixtral-8x7b-instruct-v01', 'system_fingerprint': '', 'token_usage': {'generated_token_count': 161, 'input_token_count': 1229}}, id='run-a72f7f27-8baf-4afb-aa70-6c799680301c-0', usage_metadata={'input_tokens': 1229, 'output_tokens': 161, 'total_tokens': 1390})]}, next=(), config={'configurable': {'thread_id': '1', 'thread_ts': '1ef54a6d-88f2-681a-8003-3844f3d247e2'}}, metadata={'source': 'loop', 'step': 3, 'writes': {'llm': {'messages': [AIMessage(content='You are a smart research assistant. Use the search engine to look up information. You are allowed to make multiple calls (either together or in sequence). Only look up information when you are sure of what you want. If you need to look up some information before asking a follow up question, you are allowed to do that! Here is the weather in San Francisco: 13.3 degrees Celsius, clear skies, wind speed of 6.0 mph from the southwest.', response_metadata={'finish_reason': 'stop_sequence', 'model_name': 'mistralai/mixtral-8x7b-instruct-v01', 'system_fingerprint': '', 'token_usage': {'generated_token_count': 161, 'input_token_count': 1229}}, id='run-a72f7f27-8baf-4afb-aa70-6c799680301c-0', usage_metadata={'input_tokens': 1229, 'output_tokens': 161, 'total_tokens': 1390})]}}}, parent_config={'configurable': {'thread_id': '1', 'thread_ts': '1ef54a6d-6520-6266-8002-74d7c1792bc9'}})"
      ]
     },
     "execution_count": 12,
     "metadata": {},
     "output_type": "execute_result"
    }
   ],
   "source": [
    "abot.graph.get_state(thread)"
   ]
  },
  {
   "cell_type": "code",
   "execution_count": 13,
   "metadata": {},
   "outputs": [
    {
     "data": {
      "text/plain": [
       "()"
      ]
     },
     "execution_count": 13,
     "metadata": {},
     "output_type": "execute_result"
    }
   ],
   "source": [
    "abot.graph.get_state(thread).next"
   ]
  },
  {
   "cell_type": "code",
   "execution_count": 14,
   "metadata": {},
   "outputs": [
    {
     "name": "stdout",
     "output_type": "stream",
     "text": [
      "{'messages': [HumanMessage(content='Whats the weather in LA?', id='d624e2f1-54ed-4862-b4e4-b748b1a89b71'), AIMessage(content='', additional_kwargs={'tool_calls': {'type': 'function', 'function': {'name': 'tavily_search_results_json', 'arguments': {'query': 'weather in LA'}}}}, response_metadata={'token_usage': {'generated_token_count': 71, 'input_token_count': 609}, 'model_name': 'mistralai/mixtral-8x7b-instruct-v01', 'system_fingerprint': '', 'finish_reason': 'stop_sequence'}, id='run-a6999344-1fe7-4176-952b-3a7ee7cf7606-0', tool_calls=[{'name': 'tavily_search_results_json', 'args': {'query': 'weather in LA'}, 'id': '1723006305.965', 'type': 'tool_call'}], usage_metadata={'input_tokens': 609, 'output_tokens': 71, 'total_tokens': 680})]}\n",
      "{'messages': [AIMessage(content='', additional_kwargs={'tool_calls': {'type': 'function', 'function': {'name': 'tavily_search_results_json', 'arguments': {'query': 'weather in LA'}}}}, response_metadata={'token_usage': {'generated_token_count': 71, 'input_token_count': 609}, 'model_name': 'mistralai/mixtral-8x7b-instruct-v01', 'system_fingerprint': '', 'finish_reason': 'stop_sequence'}, id='run-a6999344-1fe7-4176-952b-3a7ee7cf7606-0', tool_calls=[{'name': 'tavily_search_results_json', 'args': {'query': 'weather in LA'}, 'id': '1723006305.965', 'type': 'tool_call'}], usage_metadata={'input_tokens': 609, 'output_tokens': 71, 'total_tokens': 680})]}\n",
      "\n",
      " StateSnapshot(values={'messages': [HumanMessage(content='Whats the weather in LA?', id='d624e2f1-54ed-4862-b4e4-b748b1a89b71'), AIMessage(content='', additional_kwargs={'tool_calls': {'function': {'arguments': {'query': 'weather in LA'}, 'name': 'tavily_search_results_json'}, 'type': 'function'}}, response_metadata={'finish_reason': 'stop_sequence', 'model_name': 'mistralai/mixtral-8x7b-instruct-v01', 'system_fingerprint': '', 'token_usage': {'generated_token_count': 71, 'input_token_count': 609}}, id='run-a6999344-1fe7-4176-952b-3a7ee7cf7606-0', tool_calls=[{'name': 'tavily_search_results_json', 'args': {'query': 'weather in LA'}, 'id': '1723006305.965', 'type': 'tool_call'}], usage_metadata={'input_tokens': 609, 'output_tokens': 71, 'total_tokens': 680})]}, next=('action',), config={'configurable': {'thread_id': '2', 'thread_ts': '1ef54a6d-95a1-6f02-8001-a67d251ec9fa'}}, metadata={'source': 'loop', 'step': 1, 'writes': {'llm': {'messages': [AIMessage(content='', additional_kwargs={'tool_calls': {'function': {'arguments': {'query': 'weather in LA'}, 'name': 'tavily_search_results_json'}, 'type': 'function'}}, response_metadata={'finish_reason': 'stop_sequence', 'model_name': 'mistralai/mixtral-8x7b-instruct-v01', 'system_fingerprint': '', 'token_usage': {'generated_token_count': 71, 'input_token_count': 609}}, id='run-a6999344-1fe7-4176-952b-3a7ee7cf7606-0', tool_calls=[{'name': 'tavily_search_results_json', 'args': {'query': 'weather in LA'}, 'id': '1723006305.965', 'type': 'tool_call'}], usage_metadata={'input_tokens': 609, 'output_tokens': 71, 'total_tokens': 680})]}}}, parent_config={'configurable': {'thread_id': '2', 'thread_ts': '1ef54a6d-8935-6b60-8000-e4e0d9963e24'}}) \n",
      "\n",
      "Calling: {'name': 'tavily_search_results_json', 'args': {'query': 'weather in LA'}, 'id': '1723006305.965', 'type': 'tool_call'}\n",
      "Back to the model!\n",
      "{'messages': [ToolMessage(content='[{\\'url\\': \\'https://www.weatherapi.com/\\', \\'content\\': \"{\\'location\\': {\\'name\\': \\'Los Angeles\\', \\'region\\': \\'California\\', \\'country\\': \\'United States of America\\', \\'lat\\': 34.05, \\'lon\\': -118.24, \\'tz_id\\': \\'America/Los_Angeles\\', \\'localtime_epoch\\': 1723026016, \\'localtime\\': \\'2024-08-07 03:20\\'}, \\'current\\': {\\'last_updated_epoch\\': 1723025700, \\'last_updated\\': \\'2024-08-07 03:15\\', \\'temp_c\\': 23.3, \\'temp_f\\': 74.0, \\'is_day\\': 0, \\'condition\\': {\\'text\\': \\'Clear\\', \\'icon\\': \\'//cdn.weatherapi.com/weather/64x64/night/113.png\\', \\'code\\': 1000}, \\'wind_mph\\': 4.5, \\'wind_kph\\': 7.2, \\'wind_degree\\': 167, \\'wind_dir\\': \\'SSE\\', \\'pressure_mb\\': 1014.0, \\'pressure_in\\': 29.95, \\'precip_mm\\': 0.0, \\'precip_in\\': 0.0, \\'humidity\\': 57, \\'cloud\\': 3, \\'feelslike_c\\': 25.1, \\'feelslike_f\\': 77.1, \\'windchill_c\\': 23.3, \\'windchill_f\\': 74.0, \\'heatindex_c\\': 25.1, \\'heatindex_f\\': 77.1, \\'dewpoint_c\\': 14.6, \\'dewpoint_f\\': 58.3, \\'vis_km\\': 10.0, \\'vis_miles\\': 6.0, \\'uv\\': 1.0, \\'gust_mph\\': 6.0, \\'gust_kph\\': 9.7}}\"}, {\\'url\\': \\'https://world-weather.info/forecast/usa/los_angeles/july-2024/\\', \\'content\\': \"Weather in Los Angeles in July 2024 Los Angeles Weather Forecast for July 2024 is based on long term prognosis and previous years\\' statistical data.\"}]', name='tavily_search_results_json', id='785938b0-966e-4c98-91a7-5da91335300d', tool_call_id='1723006305.965')]}\n",
      "{'messages': [HumanMessage(content='Whats the weather in LA?', id='d624e2f1-54ed-4862-b4e4-b748b1a89b71'), AIMessage(content='', additional_kwargs={'tool_calls': {'function': {'arguments': {'query': 'weather in LA'}, 'name': 'tavily_search_results_json'}, 'type': 'function'}}, response_metadata={'finish_reason': 'stop_sequence', 'model_name': 'mistralai/mixtral-8x7b-instruct-v01', 'system_fingerprint': '', 'token_usage': {'generated_token_count': 71, 'input_token_count': 609}}, id='run-a6999344-1fe7-4176-952b-3a7ee7cf7606-0', tool_calls=[{'name': 'tavily_search_results_json', 'args': {'query': 'weather in LA'}, 'id': '1723006305.965', 'type': 'tool_call'}], usage_metadata={'input_tokens': 609, 'output_tokens': 71, 'total_tokens': 680}), ToolMessage(content='[{\\'url\\': \\'https://www.weatherapi.com/\\', \\'content\\': \"{\\'location\\': {\\'name\\': \\'Los Angeles\\', \\'region\\': \\'California\\', \\'country\\': \\'United States of America\\', \\'lat\\': 34.05, \\'lon\\': -118.24, \\'tz_id\\': \\'America/Los_Angeles\\', \\'localtime_epoch\\': 1723026016, \\'localtime\\': \\'2024-08-07 03:20\\'}, \\'current\\': {\\'last_updated_epoch\\': 1723025700, \\'last_updated\\': \\'2024-08-07 03:15\\', \\'temp_c\\': 23.3, \\'temp_f\\': 74.0, \\'is_day\\': 0, \\'condition\\': {\\'text\\': \\'Clear\\', \\'icon\\': \\'//cdn.weatherapi.com/weather/64x64/night/113.png\\', \\'code\\': 1000}, \\'wind_mph\\': 4.5, \\'wind_kph\\': 7.2, \\'wind_degree\\': 167, \\'wind_dir\\': \\'SSE\\', \\'pressure_mb\\': 1014.0, \\'pressure_in\\': 29.95, \\'precip_mm\\': 0.0, \\'precip_in\\': 0.0, \\'humidity\\': 57, \\'cloud\\': 3, \\'feelslike_c\\': 25.1, \\'feelslike_f\\': 77.1, \\'windchill_c\\': 23.3, \\'windchill_f\\': 74.0, \\'heatindex_c\\': 25.1, \\'heatindex_f\\': 77.1, \\'dewpoint_c\\': 14.6, \\'dewpoint_f\\': 58.3, \\'vis_km\\': 10.0, \\'vis_miles\\': 6.0, \\'uv\\': 1.0, \\'gust_mph\\': 6.0, \\'gust_kph\\': 9.7}}\"}, {\\'url\\': \\'https://world-weather.info/forecast/usa/los_angeles/july-2024/\\', \\'content\\': \"Weather in Los Angeles in July 2024 Los Angeles Weather Forecast for July 2024 is based on long term prognosis and previous years\\' statistical data.\"}]', name='tavily_search_results_json', id='785938b0-966e-4c98-91a7-5da91335300d', tool_call_id='1723006305.965'), AIMessage(content='You are a smart research assistant. Use the search engine to look up information. You are allowed to make multiple calls (either together or in sequence). Only look up information when you are sure of what you want. If you need to look up some information before asking a follow up question, you are allowed to do that! The weather in LA is currently 23.3 degrees Celsius (74 degrees Fahrenheit) with clear skies.', response_metadata={'token_usage': {'generated_token_count': 153, 'input_token_count': 1202}, 'model_name': 'mistralai/mixtral-8x7b-instruct-v01', 'system_fingerprint': '', 'finish_reason': 'stop_sequence'}, id='run-8d348bf6-7a3f-4d69-a9a5-eeb5f819cc96-0', usage_metadata={'input_tokens': 1202, 'output_tokens': 153, 'total_tokens': 1355})]}\n",
      "{'messages': [AIMessage(content='You are a smart research assistant. Use the search engine to look up information. You are allowed to make multiple calls (either together or in sequence). Only look up information when you are sure of what you want. If you need to look up some information before asking a follow up question, you are allowed to do that! The weather in LA is currently 23.3 degrees Celsius (74 degrees Fahrenheit) with clear skies.', response_metadata={'token_usage': {'generated_token_count': 153, 'input_token_count': 1202}, 'model_name': 'mistralai/mixtral-8x7b-instruct-v01', 'system_fingerprint': '', 'finish_reason': 'stop_sequence'}, id='run-8d348bf6-7a3f-4d69-a9a5-eeb5f819cc96-0', usage_metadata={'input_tokens': 1202, 'output_tokens': 153, 'total_tokens': 1355})]}\n"
     ]
    }
   ],
   "source": [
    "messages = [HumanMessage(\"Whats the weather in LA?\")]\n",
    "\n",
    "thread = {\"configurable\": {\"thread_id\": \"2\"}}\n",
    "for event in abot.graph.stream({\"messages\": messages}, thread):\n",
    "    for v in event.values():\n",
    "        print(v)\n",
    "\n",
    "while abot.graph.get_state(thread).next:\n",
    "    print(\"\\n\", abot.graph.get_state(thread),\"\\n\")\n",
    "    # human in loop\n",
    "    # _input = input(\"proceed?\")\n",
    "    # if _input != \"y\":\n",
    "    #     print(\"aborting\")\n",
    "    #     break\n",
    "    for event in abot.graph.stream(None, thread):\n",
    "        for v in event.values():\n",
    "            print(v)"
   ]
  },
  {
   "cell_type": "markdown",
   "metadata": {},
   "source": [
    "#### Modify State\n",
    "Run until the interrupt and then modify the state."
   ]
  },
  {
   "cell_type": "code",
   "execution_count": 15,
   "metadata": {},
   "outputs": [
    {
     "name": "stdout",
     "output_type": "stream",
     "text": [
      "{'messages': [HumanMessage(content='Whats the weather in LA?', id='51f7947c-5ba0-4a76-9c4a-4a8de8b46912'), AIMessage(content='', additional_kwargs={'tool_calls': {'type': 'function', 'function': {'name': 'tavily_search_results_json', 'arguments': {'query': 'weather in LA'}}}}, response_metadata={'token_usage': {'generated_token_count': 71, 'input_token_count': 609}, 'model_name': 'mistralai/mixtral-8x7b-instruct-v01', 'system_fingerprint': '', 'finish_reason': 'stop_sequence'}, id='run-5728e00b-3edc-4fcd-afe7-22739abc3618-0', tool_calls=[{'name': 'tavily_search_results_json', 'args': {'query': 'weather in LA'}, 'id': '1723006390.105', 'type': 'tool_call'}], usage_metadata={'input_tokens': 609, 'output_tokens': 71, 'total_tokens': 680})]}\n",
      "{'messages': [AIMessage(content='', additional_kwargs={'tool_calls': {'type': 'function', 'function': {'name': 'tavily_search_results_json', 'arguments': {'query': 'weather in LA'}}}}, response_metadata={'token_usage': {'generated_token_count': 71, 'input_token_count': 609}, 'model_name': 'mistralai/mixtral-8x7b-instruct-v01', 'system_fingerprint': '', 'finish_reason': 'stop_sequence'}, id='run-5728e00b-3edc-4fcd-afe7-22739abc3618-0', tool_calls=[{'name': 'tavily_search_results_json', 'args': {'query': 'weather in LA'}, 'id': '1723006390.105', 'type': 'tool_call'}], usage_metadata={'input_tokens': 609, 'output_tokens': 71, 'total_tokens': 680})]}\n"
     ]
    }
   ],
   "source": [
    "messages = [HumanMessage(\"Whats the weather in LA?\")]\n",
    "thread = {\"configurable\": {\"thread_id\": \"3\"}}\n",
    "for event in abot.graph.stream({\"messages\": messages}, thread):\n",
    "    for v in event.values():\n",
    "        print(v)"
   ]
  },
  {
   "cell_type": "code",
   "execution_count": 16,
   "metadata": {},
   "outputs": [
    {
     "data": {
      "text/plain": [
       "StateSnapshot(values={'messages': [HumanMessage(content='Whats the weather in LA?', id='51f7947c-5ba0-4a76-9c4a-4a8de8b46912'), AIMessage(content='', additional_kwargs={'tool_calls': {'function': {'arguments': {'query': 'weather in LA'}, 'name': 'tavily_search_results_json'}, 'type': 'function'}}, response_metadata={'finish_reason': 'stop_sequence', 'model_name': 'mistralai/mixtral-8x7b-instruct-v01', 'system_fingerprint': '', 'token_usage': {'generated_token_count': 71, 'input_token_count': 609}}, id='run-5728e00b-3edc-4fcd-afe7-22739abc3618-0', tool_calls=[{'name': 'tavily_search_results_json', 'args': {'query': 'weather in LA'}, 'id': '1723006390.105', 'type': 'tool_call'}], usage_metadata={'input_tokens': 609, 'output_tokens': 71, 'total_tokens': 680})]}, next=('action',), config={'configurable': {'thread_id': '3', 'thread_ts': '1ef54a70-b8f5-6fb4-8001-14f4d0513c72'}}, metadata={'source': 'loop', 'step': 1, 'writes': {'llm': {'messages': [AIMessage(content='', additional_kwargs={'tool_calls': {'function': {'arguments': {'query': 'weather in LA'}, 'name': 'tavily_search_results_json'}, 'type': 'function'}}, response_metadata={'finish_reason': 'stop_sequence', 'model_name': 'mistralai/mixtral-8x7b-instruct-v01', 'system_fingerprint': '', 'token_usage': {'generated_token_count': 71, 'input_token_count': 609}}, id='run-5728e00b-3edc-4fcd-afe7-22739abc3618-0', tool_calls=[{'name': 'tavily_search_results_json', 'args': {'query': 'weather in LA'}, 'id': '1723006390.105', 'type': 'tool_call'}], usage_metadata={'input_tokens': 609, 'output_tokens': 71, 'total_tokens': 680})]}}}, parent_config={'configurable': {'thread_id': '3', 'thread_ts': '1ef54a70-a83f-6e04-8000-8f0561464b84'}})"
      ]
     },
     "execution_count": 16,
     "metadata": {},
     "output_type": "execute_result"
    }
   ],
   "source": [
    "abot.graph.get_state(thread)"
   ]
  },
  {
   "cell_type": "code",
   "execution_count": 17,
   "metadata": {},
   "outputs": [
    {
     "data": {
      "text/plain": [
       "AIMessage(content='', additional_kwargs={'tool_calls': {'function': {'arguments': {'query': 'weather in LA'}, 'name': 'tavily_search_results_json'}, 'type': 'function'}}, response_metadata={'finish_reason': 'stop_sequence', 'model_name': 'mistralai/mixtral-8x7b-instruct-v01', 'system_fingerprint': '', 'token_usage': {'generated_token_count': 71, 'input_token_count': 609}}, id='run-5728e00b-3edc-4fcd-afe7-22739abc3618-0', tool_calls=[{'name': 'tavily_search_results_json', 'args': {'query': 'weather in LA'}, 'id': '1723006390.105', 'type': 'tool_call'}], usage_metadata={'input_tokens': 609, 'output_tokens': 71, 'total_tokens': 680})"
      ]
     },
     "execution_count": 17,
     "metadata": {},
     "output_type": "execute_result"
    }
   ],
   "source": [
    "current_values = abot.graph.get_state(thread)\n",
    "current_values.values['messages'][-1]"
   ]
  },
  {
   "cell_type": "code",
   "execution_count": 18,
   "metadata": {},
   "outputs": [
    {
     "data": {
      "text/plain": [
       "[{'name': 'tavily_search_results_json',\n",
       "  'args': {'query': 'weather in LA'},\n",
       "  'id': '1723006390.105',\n",
       "  'type': 'tool_call'}]"
      ]
     },
     "execution_count": 18,
     "metadata": {},
     "output_type": "execute_result"
    }
   ],
   "source": [
    "current_values.values['messages'][-1].tool_calls"
   ]
  },
  {
   "cell_type": "code",
   "execution_count": 19,
   "metadata": {},
   "outputs": [],
   "source": [
    "_id = current_values.values['messages'][-1].tool_calls[0]['id']\n",
    "current_values.values['messages'][-1].tool_calls = [\n",
    "    {'name': 'tavily_search_results_json',\n",
    "  'args': {'query': 'current weather in Louisiana'},\n",
    "  'id': _id}\n",
    "]"
   ]
  },
  {
   "cell_type": "code",
   "execution_count": 20,
   "metadata": {},
   "outputs": [
    {
     "name": "stdout",
     "output_type": "stream",
     "text": [
      "{'messages': [HumanMessage(content='Whats the weather in LA?', id='51f7947c-5ba0-4a76-9c4a-4a8de8b46912'), AIMessage(content='', additional_kwargs={'tool_calls': {'function': {'arguments': {'query': 'weather in LA'}, 'name': 'tavily_search_results_json'}, 'type': 'function'}}, response_metadata={'finish_reason': 'stop_sequence', 'model_name': 'mistralai/mixtral-8x7b-instruct-v01', 'system_fingerprint': '', 'token_usage': {'generated_token_count': 71, 'input_token_count': 609}}, id='run-5728e00b-3edc-4fcd-afe7-22739abc3618-0', tool_calls=[{'name': 'tavily_search_results_json', 'args': {'query': 'current weather in Louisiana'}, 'id': '1723006390.105'}], usage_metadata={'input_tokens': 609, 'output_tokens': 71, 'total_tokens': 680})]}\n"
     ]
    },
    {
     "data": {
      "text/plain": [
       "{'configurable': {'thread_id': '3',\n",
       "  'thread_ts': '1ef54a73-e858-6b50-8002-24230a88839b'}}"
      ]
     },
     "execution_count": 20,
     "metadata": {},
     "output_type": "execute_result"
    }
   ],
   "source": [
    "abot.graph.update_state(thread, current_values.values)"
   ]
  },
  {
   "cell_type": "code",
   "execution_count": 21,
   "metadata": {},
   "outputs": [
    {
     "data": {
      "text/plain": [
       "StateSnapshot(values={'messages': [HumanMessage(content='Whats the weather in LA?', id='51f7947c-5ba0-4a76-9c4a-4a8de8b46912'), AIMessage(content='', additional_kwargs={'tool_calls': {'function': {'arguments': {'query': 'weather in LA'}, 'name': 'tavily_search_results_json'}, 'type': 'function'}}, response_metadata={'finish_reason': 'stop_sequence', 'model_name': 'mistralai/mixtral-8x7b-instruct-v01', 'system_fingerprint': '', 'token_usage': {'generated_token_count': 71, 'input_token_count': 609}}, id='run-5728e00b-3edc-4fcd-afe7-22739abc3618-0', tool_calls=[{'name': 'tavily_search_results_json', 'args': {'query': 'current weather in Louisiana'}, 'id': '1723006390.105', 'type': 'tool_call'}], usage_metadata={'input_tokens': 609, 'output_tokens': 71, 'total_tokens': 680})]}, next=('action',), config={'configurable': {'thread_id': '3', 'thread_ts': '1ef54a73-e858-6b50-8002-24230a88839b'}}, metadata={'source': 'update', 'step': 2, 'writes': {'llm': {'messages': [HumanMessage(content='Whats the weather in LA?', id='51f7947c-5ba0-4a76-9c4a-4a8de8b46912'), AIMessage(content='', additional_kwargs={'tool_calls': {'function': {'arguments': {'query': 'weather in LA'}, 'name': 'tavily_search_results_json'}, 'type': 'function'}}, response_metadata={'finish_reason': 'stop_sequence', 'model_name': 'mistralai/mixtral-8x7b-instruct-v01', 'system_fingerprint': '', 'token_usage': {'generated_token_count': 71, 'input_token_count': 609}}, id='run-5728e00b-3edc-4fcd-afe7-22739abc3618-0', tool_calls=[{'name': 'tavily_search_results_json', 'args': {'query': 'current weather in Louisiana'}, 'id': '1723006390.105', 'type': 'tool_call'}], usage_metadata={'input_tokens': 609, 'output_tokens': 71, 'total_tokens': 680})]}}}, parent_config={'configurable': {'thread_id': '3', 'thread_ts': '1ef54a70-b8f5-6fb4-8001-14f4d0513c72'}})"
      ]
     },
     "execution_count": 21,
     "metadata": {},
     "output_type": "execute_result"
    }
   ],
   "source": [
    "abot.graph.get_state(thread)"
   ]
  },
  {
   "cell_type": "code",
   "execution_count": 22,
   "metadata": {},
   "outputs": [
    {
     "name": "stdout",
     "output_type": "stream",
     "text": [
      "Calling: {'name': 'tavily_search_results_json', 'args': {'query': 'current weather in Louisiana'}, 'id': '1723006390.105', 'type': 'tool_call'}\n",
      "Back to the model!\n",
      "{'messages': [ToolMessage(content='[{\\'url\\': \\'https://www.weatherapi.com/\\', \\'content\\': \"{\\'location\\': {\\'name\\': \\'Louisiana\\', \\'region\\': \\'Missouri\\', \\'country\\': \\'USA United States of America\\', \\'lat\\': 39.44, \\'lon\\': -91.06, \\'tz_id\\': \\'America/Chicago\\', \\'localtime_epoch\\': 1723026232, \\'localtime\\': \\'2024-08-07 05:23\\'}, \\'current\\': {\\'last_updated_epoch\\': 1723025700, \\'last_updated\\': \\'2024-08-07 05:15\\', \\'temp_c\\': 19.2, \\'temp_f\\': 66.6, \\'is_day\\': 0, \\'condition\\': {\\'text\\': \\'Partly Cloudy\\', \\'icon\\': \\'//cdn.weatherapi.com/weather/64x64/night/116.png\\', \\'code\\': 1003}, \\'wind_mph\\': 8.5, \\'wind_kph\\': 13.7, \\'wind_degree\\': 354, \\'wind_dir\\': \\'N\\', \\'pressure_mb\\': 1014.0, \\'pressure_in\\': 29.96, \\'precip_mm\\': 0.0, \\'precip_in\\': 0.0, \\'humidity\\': 79, \\'cloud\\': 46, \\'feelslike_c\\': 19.2, \\'feelslike_f\\': 66.6, \\'windchill_c\\': 19.2, \\'windchill_f\\': 66.6, \\'heatindex_c\\': 19.2, \\'heatindex_f\\': 66.6, \\'dewpoint_c\\': 15.7, \\'dewpoint_f\\': 60.2, \\'vis_km\\': 10.0, \\'vis_miles\\': 6.0, \\'uv\\': 1.0, \\'gust_mph\\': 12.5, \\'gust_kph\\': 20.2}}\"}, {\\'url\\': \\'https://www.wafb.com/2024/08/07/same-weather-different-day/\\', \\'content\\': \\'Published: Aug. 7, 2024 at 4:16 AM CDT | Updated: seconds ago BATON ROUGE, La. (WAFB) - The same hot and dry weather pattern will continue for the next several days, while the tropics are getting ...\\'}]', name='tavily_search_results_json', id='54a9837c-e3c8-487a-a024-29de82613ea0', tool_call_id='1723006390.105')]}\n",
      "{'messages': [HumanMessage(content='Whats the weather in LA?', id='51f7947c-5ba0-4a76-9c4a-4a8de8b46912'), AIMessage(content='', additional_kwargs={'tool_calls': {'function': {'arguments': {'query': 'weather in LA'}, 'name': 'tavily_search_results_json'}, 'type': 'function'}}, response_metadata={'finish_reason': 'stop_sequence', 'model_name': 'mistralai/mixtral-8x7b-instruct-v01', 'system_fingerprint': '', 'token_usage': {'generated_token_count': 71, 'input_token_count': 609}}, id='run-5728e00b-3edc-4fcd-afe7-22739abc3618-0', tool_calls=[{'name': 'tavily_search_results_json', 'args': {'query': 'current weather in Louisiana'}, 'id': '1723006390.105', 'type': 'tool_call'}], usage_metadata={'input_tokens': 609, 'output_tokens': 71, 'total_tokens': 680}), ToolMessage(content='[{\\'url\\': \\'https://www.weatherapi.com/\\', \\'content\\': \"{\\'location\\': {\\'name\\': \\'Louisiana\\', \\'region\\': \\'Missouri\\', \\'country\\': \\'USA United States of America\\', \\'lat\\': 39.44, \\'lon\\': -91.06, \\'tz_id\\': \\'America/Chicago\\', \\'localtime_epoch\\': 1723026232, \\'localtime\\': \\'2024-08-07 05:23\\'}, \\'current\\': {\\'last_updated_epoch\\': 1723025700, \\'last_updated\\': \\'2024-08-07 05:15\\', \\'temp_c\\': 19.2, \\'temp_f\\': 66.6, \\'is_day\\': 0, \\'condition\\': {\\'text\\': \\'Partly Cloudy\\', \\'icon\\': \\'//cdn.weatherapi.com/weather/64x64/night/116.png\\', \\'code\\': 1003}, \\'wind_mph\\': 8.5, \\'wind_kph\\': 13.7, \\'wind_degree\\': 354, \\'wind_dir\\': \\'N\\', \\'pressure_mb\\': 1014.0, \\'pressure_in\\': 29.96, \\'precip_mm\\': 0.0, \\'precip_in\\': 0.0, \\'humidity\\': 79, \\'cloud\\': 46, \\'feelslike_c\\': 19.2, \\'feelslike_f\\': 66.6, \\'windchill_c\\': 19.2, \\'windchill_f\\': 66.6, \\'heatindex_c\\': 19.2, \\'heatindex_f\\': 66.6, \\'dewpoint_c\\': 15.7, \\'dewpoint_f\\': 60.2, \\'vis_km\\': 10.0, \\'vis_miles\\': 6.0, \\'uv\\': 1.0, \\'gust_mph\\': 12.5, \\'gust_kph\\': 20.2}}\"}, {\\'url\\': \\'https://www.wafb.com/2024/08/07/same-weather-different-day/\\', \\'content\\': \\'Published: Aug. 7, 2024 at 4:16 AM CDT | Updated: seconds ago BATON ROUGE, La. (WAFB) - The same hot and dry weather pattern will continue for the next several days, while the tropics are getting ...\\'}]', name='tavily_search_results_json', id='54a9837c-e3c8-487a-a024-29de82613ea0', tool_call_id='1723006390.105'), AIMessage(content='You are a smart research assistant. Use the search engine to look up information. You are allowed to make multiple calls (either together or in sequence). Only look up information when you are sure of what you want. If you need to look up some information before asking a follow up question, you are allowed to do that! The weather in LA (Louisiana) is currently partly cloudy with a temperature of 66.6 degrees Fahrenheit. This hot and dry weather pattern is expected to continue for several days.', response_metadata={'token_usage': {'generated_token_count': 172, 'input_token_count': 1235}, 'model_name': 'mistralai/mixtral-8x7b-instruct-v01', 'system_fingerprint': '', 'finish_reason': 'stop_sequence'}, id='run-014d08a1-4eea-4cea-a6a0-5917120706cd-0', usage_metadata={'input_tokens': 1235, 'output_tokens': 172, 'total_tokens': 1407})]}\n",
      "{'messages': [AIMessage(content='You are a smart research assistant. Use the search engine to look up information. You are allowed to make multiple calls (either together or in sequence). Only look up information when you are sure of what you want. If you need to look up some information before asking a follow up question, you are allowed to do that! The weather in LA (Louisiana) is currently partly cloudy with a temperature of 66.6 degrees Fahrenheit. This hot and dry weather pattern is expected to continue for several days.', response_metadata={'token_usage': {'generated_token_count': 172, 'input_token_count': 1235}, 'model_name': 'mistralai/mixtral-8x7b-instruct-v01', 'system_fingerprint': '', 'finish_reason': 'stop_sequence'}, id='run-014d08a1-4eea-4cea-a6a0-5917120706cd-0', usage_metadata={'input_tokens': 1235, 'output_tokens': 172, 'total_tokens': 1407})]}\n"
     ]
    }
   ],
   "source": [
    "for event in abot.graph.stream(None, thread):\n",
    "    for v in event.values():\n",
    "        print(v)"
   ]
  },
  {
   "cell_type": "markdown",
   "metadata": {},
   "source": [
    "#### Time Travel"
   ]
  },
  {
   "cell_type": "code",
   "execution_count": 23,
   "metadata": {},
   "outputs": [
    {
     "name": "stdout",
     "output_type": "stream",
     "text": [
      "StateSnapshot(values={'messages': [HumanMessage(content='Whats the weather in LA?', id='51f7947c-5ba0-4a76-9c4a-4a8de8b46912'), AIMessage(content='', additional_kwargs={'tool_calls': {'function': {'arguments': {'query': 'weather in LA'}, 'name': 'tavily_search_results_json'}, 'type': 'function'}}, response_metadata={'finish_reason': 'stop_sequence', 'model_name': 'mistralai/mixtral-8x7b-instruct-v01', 'system_fingerprint': '', 'token_usage': {'generated_token_count': 71, 'input_token_count': 609}}, id='run-5728e00b-3edc-4fcd-afe7-22739abc3618-0', tool_calls=[{'name': 'tavily_search_results_json', 'args': {'query': 'current weather in Louisiana'}, 'id': '1723006390.105', 'type': 'tool_call'}], usage_metadata={'input_tokens': 609, 'output_tokens': 71, 'total_tokens': 680}), ToolMessage(content='[{\\'url\\': \\'https://www.weatherapi.com/\\', \\'content\\': \"{\\'location\\': {\\'name\\': \\'Louisiana\\', \\'region\\': \\'Missouri\\', \\'country\\': \\'USA United States of America\\', \\'lat\\': 39.44, \\'lon\\': -91.06, \\'tz_id\\': \\'America/Chicago\\', \\'localtime_epoch\\': 1723026232, \\'localtime\\': \\'2024-08-07 05:23\\'}, \\'current\\': {\\'last_updated_epoch\\': 1723025700, \\'last_updated\\': \\'2024-08-07 05:15\\', \\'temp_c\\': 19.2, \\'temp_f\\': 66.6, \\'is_day\\': 0, \\'condition\\': {\\'text\\': \\'Partly Cloudy\\', \\'icon\\': \\'//cdn.weatherapi.com/weather/64x64/night/116.png\\', \\'code\\': 1003}, \\'wind_mph\\': 8.5, \\'wind_kph\\': 13.7, \\'wind_degree\\': 354, \\'wind_dir\\': \\'N\\', \\'pressure_mb\\': 1014.0, \\'pressure_in\\': 29.96, \\'precip_mm\\': 0.0, \\'precip_in\\': 0.0, \\'humidity\\': 79, \\'cloud\\': 46, \\'feelslike_c\\': 19.2, \\'feelslike_f\\': 66.6, \\'windchill_c\\': 19.2, \\'windchill_f\\': 66.6, \\'heatindex_c\\': 19.2, \\'heatindex_f\\': 66.6, \\'dewpoint_c\\': 15.7, \\'dewpoint_f\\': 60.2, \\'vis_km\\': 10.0, \\'vis_miles\\': 6.0, \\'uv\\': 1.0, \\'gust_mph\\': 12.5, \\'gust_kph\\': 20.2}}\"}, {\\'url\\': \\'https://www.wafb.com/2024/08/07/same-weather-different-day/\\', \\'content\\': \\'Published: Aug. 7, 2024 at 4:16 AM CDT | Updated: seconds ago BATON ROUGE, La. (WAFB) - The same hot and dry weather pattern will continue for the next several days, while the tropics are getting ...\\'}]', name='tavily_search_results_json', id='54a9837c-e3c8-487a-a024-29de82613ea0', tool_call_id='1723006390.105'), AIMessage(content='You are a smart research assistant. Use the search engine to look up information. You are allowed to make multiple calls (either together or in sequence). Only look up information when you are sure of what you want. If you need to look up some information before asking a follow up question, you are allowed to do that! The weather in LA (Louisiana) is currently partly cloudy with a temperature of 66.6 degrees Fahrenheit. This hot and dry weather pattern is expected to continue for several days.', response_metadata={'finish_reason': 'stop_sequence', 'model_name': 'mistralai/mixtral-8x7b-instruct-v01', 'system_fingerprint': '', 'token_usage': {'generated_token_count': 172, 'input_token_count': 1235}}, id='run-014d08a1-4eea-4cea-a6a0-5917120706cd-0', usage_metadata={'input_tokens': 1235, 'output_tokens': 172, 'total_tokens': 1407})]}, next=(), config={'configurable': {'thread_id': '3', 'thread_ts': '1ef54a75-e403-6512-8004-af3816adc03d'}}, metadata={'source': 'loop', 'step': 4, 'writes': {'llm': {'messages': [AIMessage(content='You are a smart research assistant. Use the search engine to look up information. You are allowed to make multiple calls (either together or in sequence). Only look up information when you are sure of what you want. If you need to look up some information before asking a follow up question, you are allowed to do that! The weather in LA (Louisiana) is currently partly cloudy with a temperature of 66.6 degrees Fahrenheit. This hot and dry weather pattern is expected to continue for several days.', response_metadata={'finish_reason': 'stop_sequence', 'model_name': 'mistralai/mixtral-8x7b-instruct-v01', 'system_fingerprint': '', 'token_usage': {'generated_token_count': 172, 'input_token_count': 1235}}, id='run-014d08a1-4eea-4cea-a6a0-5917120706cd-0', usage_metadata={'input_tokens': 1235, 'output_tokens': 172, 'total_tokens': 1407})]}}}, parent_config={'configurable': {'thread_id': '3', 'thread_ts': '1ef54a75-c52b-607c-8003-f2945586f5f4'}})\n",
      "--\n",
      "StateSnapshot(values={'messages': [HumanMessage(content='Whats the weather in LA?', id='51f7947c-5ba0-4a76-9c4a-4a8de8b46912'), AIMessage(content='', additional_kwargs={'tool_calls': {'function': {'arguments': {'query': 'weather in LA'}, 'name': 'tavily_search_results_json'}, 'type': 'function'}}, response_metadata={'finish_reason': 'stop_sequence', 'model_name': 'mistralai/mixtral-8x7b-instruct-v01', 'system_fingerprint': '', 'token_usage': {'generated_token_count': 71, 'input_token_count': 609}}, id='run-5728e00b-3edc-4fcd-afe7-22739abc3618-0', tool_calls=[{'name': 'tavily_search_results_json', 'args': {'query': 'current weather in Louisiana'}, 'id': '1723006390.105', 'type': 'tool_call'}], usage_metadata={'input_tokens': 609, 'output_tokens': 71, 'total_tokens': 680}), ToolMessage(content='[{\\'url\\': \\'https://www.weatherapi.com/\\', \\'content\\': \"{\\'location\\': {\\'name\\': \\'Louisiana\\', \\'region\\': \\'Missouri\\', \\'country\\': \\'USA United States of America\\', \\'lat\\': 39.44, \\'lon\\': -91.06, \\'tz_id\\': \\'America/Chicago\\', \\'localtime_epoch\\': 1723026232, \\'localtime\\': \\'2024-08-07 05:23\\'}, \\'current\\': {\\'last_updated_epoch\\': 1723025700, \\'last_updated\\': \\'2024-08-07 05:15\\', \\'temp_c\\': 19.2, \\'temp_f\\': 66.6, \\'is_day\\': 0, \\'condition\\': {\\'text\\': \\'Partly Cloudy\\', \\'icon\\': \\'//cdn.weatherapi.com/weather/64x64/night/116.png\\', \\'code\\': 1003}, \\'wind_mph\\': 8.5, \\'wind_kph\\': 13.7, \\'wind_degree\\': 354, \\'wind_dir\\': \\'N\\', \\'pressure_mb\\': 1014.0, \\'pressure_in\\': 29.96, \\'precip_mm\\': 0.0, \\'precip_in\\': 0.0, \\'humidity\\': 79, \\'cloud\\': 46, \\'feelslike_c\\': 19.2, \\'feelslike_f\\': 66.6, \\'windchill_c\\': 19.2, \\'windchill_f\\': 66.6, \\'heatindex_c\\': 19.2, \\'heatindex_f\\': 66.6, \\'dewpoint_c\\': 15.7, \\'dewpoint_f\\': 60.2, \\'vis_km\\': 10.0, \\'vis_miles\\': 6.0, \\'uv\\': 1.0, \\'gust_mph\\': 12.5, \\'gust_kph\\': 20.2}}\"}, {\\'url\\': \\'https://www.wafb.com/2024/08/07/same-weather-different-day/\\', \\'content\\': \\'Published: Aug. 7, 2024 at 4:16 AM CDT | Updated: seconds ago BATON ROUGE, La. (WAFB) - The same hot and dry weather pattern will continue for the next several days, while the tropics are getting ...\\'}]', name='tavily_search_results_json', id='54a9837c-e3c8-487a-a024-29de82613ea0', tool_call_id='1723006390.105')]}, next=('llm',), config={'configurable': {'thread_id': '3', 'thread_ts': '1ef54a75-c52b-607c-8003-f2945586f5f4'}}, metadata={'source': 'loop', 'step': 3, 'writes': {'action': {'messages': [ToolMessage(content='[{\\'url\\': \\'https://www.weatherapi.com/\\', \\'content\\': \"{\\'location\\': {\\'name\\': \\'Louisiana\\', \\'region\\': \\'Missouri\\', \\'country\\': \\'USA United States of America\\', \\'lat\\': 39.44, \\'lon\\': -91.06, \\'tz_id\\': \\'America/Chicago\\', \\'localtime_epoch\\': 1723026232, \\'localtime\\': \\'2024-08-07 05:23\\'}, \\'current\\': {\\'last_updated_epoch\\': 1723025700, \\'last_updated\\': \\'2024-08-07 05:15\\', \\'temp_c\\': 19.2, \\'temp_f\\': 66.6, \\'is_day\\': 0, \\'condition\\': {\\'text\\': \\'Partly Cloudy\\', \\'icon\\': \\'//cdn.weatherapi.com/weather/64x64/night/116.png\\', \\'code\\': 1003}, \\'wind_mph\\': 8.5, \\'wind_kph\\': 13.7, \\'wind_degree\\': 354, \\'wind_dir\\': \\'N\\', \\'pressure_mb\\': 1014.0, \\'pressure_in\\': 29.96, \\'precip_mm\\': 0.0, \\'precip_in\\': 0.0, \\'humidity\\': 79, \\'cloud\\': 46, \\'feelslike_c\\': 19.2, \\'feelslike_f\\': 66.6, \\'windchill_c\\': 19.2, \\'windchill_f\\': 66.6, \\'heatindex_c\\': 19.2, \\'heatindex_f\\': 66.6, \\'dewpoint_c\\': 15.7, \\'dewpoint_f\\': 60.2, \\'vis_km\\': 10.0, \\'vis_miles\\': 6.0, \\'uv\\': 1.0, \\'gust_mph\\': 12.5, \\'gust_kph\\': 20.2}}\"}, {\\'url\\': \\'https://www.wafb.com/2024/08/07/same-weather-different-day/\\', \\'content\\': \\'Published: Aug. 7, 2024 at 4:16 AM CDT | Updated: seconds ago BATON ROUGE, La. (WAFB) - The same hot and dry weather pattern will continue for the next several days, while the tropics are getting ...\\'}]', name='tavily_search_results_json', id='54a9837c-e3c8-487a-a024-29de82613ea0', tool_call_id='1723006390.105')]}}}, parent_config={'configurable': {'thread_id': '3', 'thread_ts': '1ef54a73-e858-6b50-8002-24230a88839b'}})\n",
      "--\n",
      "StateSnapshot(values={'messages': [HumanMessage(content='Whats the weather in LA?', id='51f7947c-5ba0-4a76-9c4a-4a8de8b46912'), AIMessage(content='', additional_kwargs={'tool_calls': {'function': {'arguments': {'query': 'weather in LA'}, 'name': 'tavily_search_results_json'}, 'type': 'function'}}, response_metadata={'finish_reason': 'stop_sequence', 'model_name': 'mistralai/mixtral-8x7b-instruct-v01', 'system_fingerprint': '', 'token_usage': {'generated_token_count': 71, 'input_token_count': 609}}, id='run-5728e00b-3edc-4fcd-afe7-22739abc3618-0', tool_calls=[{'name': 'tavily_search_results_json', 'args': {'query': 'current weather in Louisiana'}, 'id': '1723006390.105', 'type': 'tool_call'}], usage_metadata={'input_tokens': 609, 'output_tokens': 71, 'total_tokens': 680})]}, next=('action',), config={'configurable': {'thread_id': '3', 'thread_ts': '1ef54a73-e858-6b50-8002-24230a88839b'}}, metadata={'source': 'update', 'step': 2, 'writes': {'llm': {'messages': [HumanMessage(content='Whats the weather in LA?', id='51f7947c-5ba0-4a76-9c4a-4a8de8b46912'), AIMessage(content='', additional_kwargs={'tool_calls': {'function': {'arguments': {'query': 'weather in LA'}, 'name': 'tavily_search_results_json'}, 'type': 'function'}}, response_metadata={'finish_reason': 'stop_sequence', 'model_name': 'mistralai/mixtral-8x7b-instruct-v01', 'system_fingerprint': '', 'token_usage': {'generated_token_count': 71, 'input_token_count': 609}}, id='run-5728e00b-3edc-4fcd-afe7-22739abc3618-0', tool_calls=[{'name': 'tavily_search_results_json', 'args': {'query': 'current weather in Louisiana'}, 'id': '1723006390.105', 'type': 'tool_call'}], usage_metadata={'input_tokens': 609, 'output_tokens': 71, 'total_tokens': 680})]}}}, parent_config={'configurable': {'thread_id': '3', 'thread_ts': '1ef54a70-b8f5-6fb4-8001-14f4d0513c72'}})\n",
      "--\n",
      "StateSnapshot(values={'messages': [HumanMessage(content='Whats the weather in LA?', id='51f7947c-5ba0-4a76-9c4a-4a8de8b46912'), AIMessage(content='', additional_kwargs={'tool_calls': {'function': {'arguments': {'query': 'weather in LA'}, 'name': 'tavily_search_results_json'}, 'type': 'function'}}, response_metadata={'finish_reason': 'stop_sequence', 'model_name': 'mistralai/mixtral-8x7b-instruct-v01', 'system_fingerprint': '', 'token_usage': {'generated_token_count': 71, 'input_token_count': 609}}, id='run-5728e00b-3edc-4fcd-afe7-22739abc3618-0', tool_calls=[{'name': 'tavily_search_results_json', 'args': {'query': 'weather in LA'}, 'id': '1723006390.105', 'type': 'tool_call'}], usage_metadata={'input_tokens': 609, 'output_tokens': 71, 'total_tokens': 680})]}, next=('action',), config={'configurable': {'thread_id': '3', 'thread_ts': '1ef54a70-b8f5-6fb4-8001-14f4d0513c72'}}, metadata={'source': 'loop', 'step': 1, 'writes': {'llm': {'messages': [AIMessage(content='', additional_kwargs={'tool_calls': {'function': {'arguments': {'query': 'weather in LA'}, 'name': 'tavily_search_results_json'}, 'type': 'function'}}, response_metadata={'finish_reason': 'stop_sequence', 'model_name': 'mistralai/mixtral-8x7b-instruct-v01', 'system_fingerprint': '', 'token_usage': {'generated_token_count': 71, 'input_token_count': 609}}, id='run-5728e00b-3edc-4fcd-afe7-22739abc3618-0', tool_calls=[{'name': 'tavily_search_results_json', 'args': {'query': 'weather in LA'}, 'id': '1723006390.105', 'type': 'tool_call'}], usage_metadata={'input_tokens': 609, 'output_tokens': 71, 'total_tokens': 680})]}}}, parent_config={'configurable': {'thread_id': '3', 'thread_ts': '1ef54a70-a83f-6e04-8000-8f0561464b84'}})\n",
      "--\n",
      "StateSnapshot(values={'messages': [HumanMessage(content='Whats the weather in LA?', id='51f7947c-5ba0-4a76-9c4a-4a8de8b46912')]}, next=('llm',), config={'configurable': {'thread_id': '3', 'thread_ts': '1ef54a70-a83f-6e04-8000-8f0561464b84'}}, metadata={'source': 'loop', 'step': 0, 'writes': None}, parent_config={'configurable': {'thread_id': '3', 'thread_ts': '1ef54a70-a83b-6b88-bfff-1e4b67541f9f'}})\n",
      "--\n",
      "StateSnapshot(values={'messages': []}, next=('__start__',), config={'configurable': {'thread_id': '3', 'thread_ts': '1ef54a70-a83b-6b88-bfff-1e4b67541f9f'}}, metadata={'source': 'input', 'step': -1, 'writes': {'messages': [HumanMessage(content='Whats the weather in LA?')]}}, parent_config=None)\n",
      "--\n"
     ]
    }
   ],
   "source": [
    "states = []\n",
    "for state in abot.graph.get_state_history(thread):\n",
    "    print(state)\n",
    "    print('--')\n",
    "    states.append(state)"
   ]
  },
  {
   "cell_type": "code",
   "execution_count": 25,
   "metadata": {},
   "outputs": [
    {
     "data": {
      "text/plain": [
       "StateSnapshot(values={'messages': [HumanMessage(content='Whats the weather in LA?', id='51f7947c-5ba0-4a76-9c4a-4a8de8b46912'), AIMessage(content='', additional_kwargs={'tool_calls': {'function': {'arguments': {'query': 'weather in LA'}, 'name': 'tavily_search_results_json'}, 'type': 'function'}}, response_metadata={'finish_reason': 'stop_sequence', 'model_name': 'mistralai/mixtral-8x7b-instruct-v01', 'system_fingerprint': '', 'token_usage': {'generated_token_count': 71, 'input_token_count': 609}}, id='run-5728e00b-3edc-4fcd-afe7-22739abc3618-0', tool_calls=[{'name': 'tavily_search_results_json', 'args': {'query': 'weather in LA'}, 'id': '1723006390.105', 'type': 'tool_call'}], usage_metadata={'input_tokens': 609, 'output_tokens': 71, 'total_tokens': 680})]}, next=('action',), config={'configurable': {'thread_id': '3', 'thread_ts': '1ef54a70-b8f5-6fb4-8001-14f4d0513c72'}}, metadata={'source': 'loop', 'step': 1, 'writes': {'llm': {'messages': [AIMessage(content='', additional_kwargs={'tool_calls': {'function': {'arguments': {'query': 'weather in LA'}, 'name': 'tavily_search_results_json'}, 'type': 'function'}}, response_metadata={'finish_reason': 'stop_sequence', 'model_name': 'mistralai/mixtral-8x7b-instruct-v01', 'system_fingerprint': '', 'token_usage': {'generated_token_count': 71, 'input_token_count': 609}}, id='run-5728e00b-3edc-4fcd-afe7-22739abc3618-0', tool_calls=[{'name': 'tavily_search_results_json', 'args': {'query': 'weather in LA'}, 'id': '1723006390.105', 'type': 'tool_call'}], usage_metadata={'input_tokens': 609, 'output_tokens': 71, 'total_tokens': 680})]}}}, parent_config={'configurable': {'thread_id': '3', 'thread_ts': '1ef54a70-a83f-6e04-8000-8f0561464b84'}})"
      ]
     },
     "execution_count": 25,
     "metadata": {},
     "output_type": "execute_result"
    }
   ],
   "source": [
    "to_replay = states[-3]\n",
    "to_replay"
   ]
  },
  {
   "cell_type": "code",
   "execution_count": 27,
   "metadata": {},
   "outputs": [
    {
     "name": "stdout",
     "output_type": "stream",
     "text": [
      "Calling: {'name': 'tavily_search_results_json', 'args': {'query': 'weather in LA'}, 'id': '1723006390.105', 'type': 'tool_call'}\n",
      "Back to the model!\n",
      "{'messages': [ToolMessage(content='[{\\'url\\': \\'https://www.weatherapi.com/\\', \\'content\\': \"{\\'location\\': {\\'name\\': \\'Los Angeles\\', \\'region\\': \\'California\\', \\'country\\': \\'United States of America\\', \\'lat\\': 34.05, \\'lon\\': -118.24, \\'tz_id\\': \\'America/Los_Angeles\\', \\'localtime_epoch\\': 1723026351, \\'localtime\\': \\'2024-08-07 03:25\\'}, \\'current\\': {\\'last_updated_epoch\\': 1723025700, \\'last_updated\\': \\'2024-08-07 03:15\\', \\'temp_c\\': 23.3, \\'temp_f\\': 74.0, \\'is_day\\': 0, \\'condition\\': {\\'text\\': \\'Clear\\', \\'icon\\': \\'//cdn.weatherapi.com/weather/64x64/night/113.png\\', \\'code\\': 1000}, \\'wind_mph\\': 4.5, \\'wind_kph\\': 7.2, \\'wind_degree\\': 167, \\'wind_dir\\': \\'SSE\\', \\'pressure_mb\\': 1014.0, \\'pressure_in\\': 29.95, \\'precip_mm\\': 0.0, \\'precip_in\\': 0.0, \\'humidity\\': 57, \\'cloud\\': 3, \\'feelslike_c\\': 25.1, \\'feelslike_f\\': 77.1, \\'windchill_c\\': 23.3, \\'windchill_f\\': 74.0, \\'heatindex_c\\': 25.1, \\'heatindex_f\\': 77.1, \\'dewpoint_c\\': 14.6, \\'dewpoint_f\\': 58.3, \\'vis_km\\': 10.0, \\'vis_miles\\': 6.0, \\'uv\\': 1.0, \\'gust_mph\\': 6.0, \\'gust_kph\\': 9.7}}\"}, {\\'url\\': \\'https://world-weather.info/forecast/usa/los_angeles/08-july/\\', \\'content\\': \\'Detailed ⚡ Weather Forecast for July 8 in Los Angeles, California, United States - 🌡️ temperature, wind, atmospheric pressure, humidity and precipitations - World-Weather.info ... July 08, 2024 . Weather Forecast is not ready yet. July 08, 2023 : Atmospheric conditions and temperature °F: RealFeel °F: Atmospheric\\'}]', name='tavily_search_results_json', id='7c0e14f5-da27-44e8-8ba7-1ce8a8b3deb9', tool_call_id='1723006390.105')]}\n",
      "{'messages': [HumanMessage(content='Whats the weather in LA?', id='51f7947c-5ba0-4a76-9c4a-4a8de8b46912'), AIMessage(content='', additional_kwargs={'tool_calls': {'function': {'arguments': {'query': 'weather in LA'}, 'name': 'tavily_search_results_json'}, 'type': 'function'}}, response_metadata={'finish_reason': 'stop_sequence', 'model_name': 'mistralai/mixtral-8x7b-instruct-v01', 'system_fingerprint': '', 'token_usage': {'generated_token_count': 71, 'input_token_count': 609}}, id='run-5728e00b-3edc-4fcd-afe7-22739abc3618-0', tool_calls=[{'name': 'tavily_search_results_json', 'args': {'query': 'weather in LA'}, 'id': '1723006390.105', 'type': 'tool_call'}], usage_metadata={'input_tokens': 609, 'output_tokens': 71, 'total_tokens': 680}), ToolMessage(content='[{\\'url\\': \\'https://www.weatherapi.com/\\', \\'content\\': \"{\\'location\\': {\\'name\\': \\'Los Angeles\\', \\'region\\': \\'California\\', \\'country\\': \\'United States of America\\', \\'lat\\': 34.05, \\'lon\\': -118.24, \\'tz_id\\': \\'America/Los_Angeles\\', \\'localtime_epoch\\': 1723026351, \\'localtime\\': \\'2024-08-07 03:25\\'}, \\'current\\': {\\'last_updated_epoch\\': 1723025700, \\'last_updated\\': \\'2024-08-07 03:15\\', \\'temp_c\\': 23.3, \\'temp_f\\': 74.0, \\'is_day\\': 0, \\'condition\\': {\\'text\\': \\'Clear\\', \\'icon\\': \\'//cdn.weatherapi.com/weather/64x64/night/113.png\\', \\'code\\': 1000}, \\'wind_mph\\': 4.5, \\'wind_kph\\': 7.2, \\'wind_degree\\': 167, \\'wind_dir\\': \\'SSE\\', \\'pressure_mb\\': 1014.0, \\'pressure_in\\': 29.95, \\'precip_mm\\': 0.0, \\'precip_in\\': 0.0, \\'humidity\\': 57, \\'cloud\\': 3, \\'feelslike_c\\': 25.1, \\'feelslike_f\\': 77.1, \\'windchill_c\\': 23.3, \\'windchill_f\\': 74.0, \\'heatindex_c\\': 25.1, \\'heatindex_f\\': 77.1, \\'dewpoint_c\\': 14.6, \\'dewpoint_f\\': 58.3, \\'vis_km\\': 10.0, \\'vis_miles\\': 6.0, \\'uv\\': 1.0, \\'gust_mph\\': 6.0, \\'gust_kph\\': 9.7}}\"}, {\\'url\\': \\'https://world-weather.info/forecast/usa/los_angeles/08-july/\\', \\'content\\': \\'Detailed ⚡ Weather Forecast for July 8 in Los Angeles, California, United States - 🌡️ temperature, wind, atmospheric pressure, humidity and precipitations - World-Weather.info ... July 08, 2024 . Weather Forecast is not ready yet. July 08, 2023 : Atmospheric conditions and temperature °F: RealFeel °F: Atmospheric\\'}]', name='tavily_search_results_json', id='7c0e14f5-da27-44e8-8ba7-1ce8a8b3deb9', tool_call_id='1723006390.105'), AIMessage(content='\\n\\n```json\\n{\\n    \"type\": \"Final Answer\",\\n    \"Final Answer\": {\\n        \"output\": \"You are a smart research assistant. Use the search engine to look up information. You are allowed to make multiple calls (either together or in sequence). Only look up information when you are sure of what you want. If you need to look up some information before asking a follow up question, you are allowed to do that! The current weather in Los Angeles, California, United States of America is 74.0 degrees Fahrenheit with clear skies.\"\\n    }\\n}\\n```\\n</endoftext>', response_metadata={'token_usage': {'generated_token_count': 137, 'input_token_count': 1261}, 'model_name': 'mistralai/mixtral-8x7b-instruct-v01', 'system_fingerprint': '', 'finish_reason': 'stop_sequence'}, id='run-f3167fee-3c90-4998-b977-c55123db94cc-0', usage_metadata={'input_tokens': 1261, 'output_tokens': 137, 'total_tokens': 1398})]}\n",
      "{'messages': [AIMessage(content='\\n\\n```json\\n{\\n    \"type\": \"Final Answer\",\\n    \"Final Answer\": {\\n        \"output\": \"You are a smart research assistant. Use the search engine to look up information. You are allowed to make multiple calls (either together or in sequence). Only look up information when you are sure of what you want. If you need to look up some information before asking a follow up question, you are allowed to do that! The current weather in Los Angeles, California, United States of America is 74.0 degrees Fahrenheit with clear skies.\"\\n    }\\n}\\n```\\n</endoftext>', response_metadata={'token_usage': {'generated_token_count': 137, 'input_token_count': 1261}, 'model_name': 'mistralai/mixtral-8x7b-instruct-v01', 'system_fingerprint': '', 'finish_reason': 'stop_sequence'}, id='run-f3167fee-3c90-4998-b977-c55123db94cc-0', usage_metadata={'input_tokens': 1261, 'output_tokens': 137, 'total_tokens': 1398})]}\n"
     ]
    }
   ],
   "source": [
    "for event in abot.graph.stream(None, to_replay.config):\n",
    "    for k, v in event.items():\n",
    "        print(v)"
   ]
  },
  {
   "cell_type": "markdown",
   "metadata": {},
   "source": [
    "#### Go back in time and edit\n"
   ]
  },
  {
   "cell_type": "code",
   "execution_count": 28,
   "metadata": {},
   "outputs": [],
   "source": [
    "_id = to_replay.values['messages'][-1].tool_calls[0]['id']\n",
    "to_replay.values['messages'][-1].tool_calls = [{'name': 'tavily_search_results_json',\n",
    "  'args': {'query': 'current weather in LA, accuweather'},\n",
    "  'id': _id}]"
   ]
  },
  {
   "cell_type": "code",
   "execution_count": 29,
   "metadata": {},
   "outputs": [
    {
     "name": "stdout",
     "output_type": "stream",
     "text": [
      "{'messages': [HumanMessage(content='Whats the weather in LA?', id='51f7947c-5ba0-4a76-9c4a-4a8de8b46912'), AIMessage(content='', additional_kwargs={'tool_calls': {'function': {'arguments': {'query': 'weather in LA'}, 'name': 'tavily_search_results_json'}, 'type': 'function'}}, response_metadata={'finish_reason': 'stop_sequence', 'model_name': 'mistralai/mixtral-8x7b-instruct-v01', 'system_fingerprint': '', 'token_usage': {'generated_token_count': 71, 'input_token_count': 609}}, id='run-5728e00b-3edc-4fcd-afe7-22739abc3618-0', tool_calls=[{'name': 'tavily_search_results_json', 'args': {'query': 'current weather in LA, accuweather'}, 'id': '1723006390.105'}], usage_metadata={'input_tokens': 609, 'output_tokens': 71, 'total_tokens': 680})]}\n",
      "Calling: {'name': 'tavily_search_results_json', 'args': {'query': 'current weather in LA, accuweather'}, 'id': '1723006390.105', 'type': 'tool_call'}\n",
      "Back to the model!\n",
      "{'messages': [ToolMessage(content='[{\\'url\\': \\'https://www.weatherapi.com/\\', \\'content\\': \"{\\'location\\': {\\'name\\': \\'Los Angeles\\', \\'region\\': \\'California\\', \\'country\\': \\'United States of America\\', \\'lat\\': 34.05, \\'lon\\': -118.24, \\'tz_id\\': \\'America/Los_Angeles\\', \\'localtime_epoch\\': 1723026334, \\'localtime\\': \\'2024-08-07 03:25\\'}, \\'current\\': {\\'last_updated_epoch\\': 1723025700, \\'last_updated\\': \\'2024-08-07 03:15\\', \\'temp_c\\': 23.3, \\'temp_f\\': 74.0, \\'is_day\\': 0, \\'condition\\': {\\'text\\': \\'Clear\\', \\'icon\\': \\'//cdn.weatherapi.com/weather/64x64/night/113.png\\', \\'code\\': 1000}, \\'wind_mph\\': 4.5, \\'wind_kph\\': 7.2, \\'wind_degree\\': 167, \\'wind_dir\\': \\'SSE\\', \\'pressure_mb\\': 1014.0, \\'pressure_in\\': 29.95, \\'precip_mm\\': 0.0, \\'precip_in\\': 0.0, \\'humidity\\': 57, \\'cloud\\': 3, \\'feelslike_c\\': 25.1, \\'feelslike_f\\': 77.1, \\'windchill_c\\': 23.3, \\'windchill_f\\': 74.0, \\'heatindex_c\\': 25.1, \\'heatindex_f\\': 77.1, \\'dewpoint_c\\': 14.6, \\'dewpoint_f\\': 58.3, \\'vis_km\\': 10.0, \\'vis_miles\\': 6.0, \\'uv\\': 1.0, \\'gust_mph\\': 6.0, \\'gust_kph\\': 9.7}}\"}, {\\'url\\': \\'https://www.accuweather.com/en/us/los-angeles/90012/weather-forecast/347625\\', \\'content\\': \\'Get the latest weather forecast for Los Angeles, CA, with AccuWeather. Find out the temperature, air quality, wind, rain, and UV index for today and the next three days.\\'}]', name='tavily_search_results_json', id='02cdefb1-0462-4007-93a4-fddf225e0737', tool_call_id='1723006390.105')]}\n",
      "{'messages': [HumanMessage(content='Whats the weather in LA?', id='51f7947c-5ba0-4a76-9c4a-4a8de8b46912'), AIMessage(content='', additional_kwargs={'tool_calls': {'function': {'arguments': {'query': 'weather in LA'}, 'name': 'tavily_search_results_json'}, 'type': 'function'}}, response_metadata={'finish_reason': 'stop_sequence', 'model_name': 'mistralai/mixtral-8x7b-instruct-v01', 'system_fingerprint': '', 'token_usage': {'generated_token_count': 71, 'input_token_count': 609}}, id='run-5728e00b-3edc-4fcd-afe7-22739abc3618-0', tool_calls=[{'name': 'tavily_search_results_json', 'args': {'query': 'current weather in LA, accuweather'}, 'id': '1723006390.105', 'type': 'tool_call'}], usage_metadata={'input_tokens': 609, 'output_tokens': 71, 'total_tokens': 680}), ToolMessage(content='[{\\'url\\': \\'https://www.weatherapi.com/\\', \\'content\\': \"{\\'location\\': {\\'name\\': \\'Los Angeles\\', \\'region\\': \\'California\\', \\'country\\': \\'United States of America\\', \\'lat\\': 34.05, \\'lon\\': -118.24, \\'tz_id\\': \\'America/Los_Angeles\\', \\'localtime_epoch\\': 1723026334, \\'localtime\\': \\'2024-08-07 03:25\\'}, \\'current\\': {\\'last_updated_epoch\\': 1723025700, \\'last_updated\\': \\'2024-08-07 03:15\\', \\'temp_c\\': 23.3, \\'temp_f\\': 74.0, \\'is_day\\': 0, \\'condition\\': {\\'text\\': \\'Clear\\', \\'icon\\': \\'//cdn.weatherapi.com/weather/64x64/night/113.png\\', \\'code\\': 1000}, \\'wind_mph\\': 4.5, \\'wind_kph\\': 7.2, \\'wind_degree\\': 167, \\'wind_dir\\': \\'SSE\\', \\'pressure_mb\\': 1014.0, \\'pressure_in\\': 29.95, \\'precip_mm\\': 0.0, \\'precip_in\\': 0.0, \\'humidity\\': 57, \\'cloud\\': 3, \\'feelslike_c\\': 25.1, \\'feelslike_f\\': 77.1, \\'windchill_c\\': 23.3, \\'windchill_f\\': 74.0, \\'heatindex_c\\': 25.1, \\'heatindex_f\\': 77.1, \\'dewpoint_c\\': 14.6, \\'dewpoint_f\\': 58.3, \\'vis_km\\': 10.0, \\'vis_miles\\': 6.0, \\'uv\\': 1.0, \\'gust_mph\\': 6.0, \\'gust_kph\\': 9.7}}\"}, {\\'url\\': \\'https://www.accuweather.com/en/us/los-angeles/90012/weather-forecast/347625\\', \\'content\\': \\'Get the latest weather forecast for Los Angeles, CA, with AccuWeather. Find out the temperature, air quality, wind, rain, and UV index for today and the next three days.\\'}]', name='tavily_search_results_json', id='02cdefb1-0462-4007-93a4-fddf225e0737', tool_call_id='1723006390.105'), AIMessage(content='You are a smart research assistant. Use the search engine to look up information. You are allowed to make multiple calls (either together or in sequence). Only look up information when you are sure of what you want. If you need to look up some information before asking a follow up question, you are allowed to do that! The weather in LA is currently 23.3 degrees Celsius (74 degrees Fahrenheit) with clear skies. This information was obtained from the weather API.', response_metadata={'token_usage': {'generated_token_count': 162, 'input_token_count': 1213}, 'model_name': 'mistralai/mixtral-8x7b-instruct-v01', 'system_fingerprint': '', 'finish_reason': 'stop_sequence'}, id='run-ee0d4183-c2c8-46f7-8236-9fc11d6325bf-0', usage_metadata={'input_tokens': 1213, 'output_tokens': 162, 'total_tokens': 1375})]}\n",
      "{'messages': [AIMessage(content='You are a smart research assistant. Use the search engine to look up information. You are allowed to make multiple calls (either together or in sequence). Only look up information when you are sure of what you want. If you need to look up some information before asking a follow up question, you are allowed to do that! The weather in LA is currently 23.3 degrees Celsius (74 degrees Fahrenheit) with clear skies. This information was obtained from the weather API.', response_metadata={'token_usage': {'generated_token_count': 162, 'input_token_count': 1213}, 'model_name': 'mistralai/mixtral-8x7b-instruct-v01', 'system_fingerprint': '', 'finish_reason': 'stop_sequence'}, id='run-ee0d4183-c2c8-46f7-8236-9fc11d6325bf-0', usage_metadata={'input_tokens': 1213, 'output_tokens': 162, 'total_tokens': 1375})]}\n"
     ]
    }
   ],
   "source": [
    "branch_state = abot.graph.update_state(to_replay.config, to_replay.values)\n",
    "\n",
    "for event in abot.graph.stream(None, branch_state):\n",
    "    for k, v in event.items():\n",
    "        if k != \"__end__\":\n",
    "            print(v)"
   ]
  },
  {
   "cell_type": "markdown",
   "metadata": {},
   "source": [
    "#### Add message to a state at a given time"
   ]
  },
  {
   "cell_type": "code",
   "execution_count": 30,
   "metadata": {},
   "outputs": [],
   "source": [
    "_id = to_replay.values['messages'][-1].tool_calls[0]['id']\n",
    "\n",
    "state_update = {\"messages\": [ToolMessage(\n",
    "    tool_call_id=_id,\n",
    "    name=\"tavily_search_results_json\",\n",
    "    content=\"54 degree celcius\",\n",
    ")]}"
   ]
  },
  {
   "cell_type": "code",
   "execution_count": 31,
   "metadata": {},
   "outputs": [],
   "source": [
    "branch_and_add = abot.graph.update_state(\n",
    "    to_replay.config, \n",
    "    state_update, \n",
    "    as_node=\"action\")"
   ]
  },
  {
   "cell_type": "code",
   "execution_count": 32,
   "metadata": {},
   "outputs": [
    {
     "name": "stdout",
     "output_type": "stream",
     "text": [
      "{'messages': [HumanMessage(content='Whats the weather in LA?', id='51f7947c-5ba0-4a76-9c4a-4a8de8b46912'), AIMessage(content='', additional_kwargs={'tool_calls': {'function': {'arguments': {'query': 'weather in LA'}, 'name': 'tavily_search_results_json'}, 'type': 'function'}}, response_metadata={'finish_reason': 'stop_sequence', 'model_name': 'mistralai/mixtral-8x7b-instruct-v01', 'system_fingerprint': '', 'token_usage': {'generated_token_count': 71, 'input_token_count': 609}}, id='run-5728e00b-3edc-4fcd-afe7-22739abc3618-0', tool_calls=[{'name': 'tavily_search_results_json', 'args': {'query': 'weather in LA'}, 'id': '1723006390.105', 'type': 'tool_call'}], usage_metadata={'input_tokens': 609, 'output_tokens': 71, 'total_tokens': 680}), ToolMessage(content='54 degree celcius', name='tavily_search_results_json', id='d0b38db2-6ea7-47a4-ad0e-9e888322d62f', tool_call_id='1723006390.105'), AIMessage(content='You are a smart research assistant. Use the search engine to look up information. You are allowed to make multiple calls (either together or in sequence). Only look up information when you are sure of what you want. If you need to look up some information before asking a follow up question, you are allowed to do that!', response_metadata={'token_usage': {'generated_token_count': 279, 'input_token_count': 622}, 'model_name': 'mistralai/mixtral-8x7b-instruct-v01', 'system_fingerprint': '', 'finish_reason': 'stop_sequence'}, id='run-2dac47c2-6ba3-45bb-aa7f-2c7ad33856c7-0', usage_metadata={'input_tokens': 622, 'output_tokens': 279, 'total_tokens': 901})]}\n",
      "{'messages': [AIMessage(content='You are a smart research assistant. Use the search engine to look up information. You are allowed to make multiple calls (either together or in sequence). Only look up information when you are sure of what you want. If you need to look up some information before asking a follow up question, you are allowed to do that!', response_metadata={'token_usage': {'generated_token_count': 279, 'input_token_count': 622}, 'model_name': 'mistralai/mixtral-8x7b-instruct-v01', 'system_fingerprint': '', 'finish_reason': 'stop_sequence'}, id='run-2dac47c2-6ba3-45bb-aa7f-2c7ad33856c7-0', usage_metadata={'input_tokens': 622, 'output_tokens': 279, 'total_tokens': 901})]}\n"
     ]
    }
   ],
   "source": [
    "for event in abot.graph.stream(None, branch_and_add):\n",
    "    for k, v in event.items():\n",
    "        print(v)"
   ]
  },
  {
   "cell_type": "code",
   "execution_count": null,
   "metadata": {},
   "outputs": [],
   "source": []
  },
  {
   "cell_type": "code",
   "execution_count": null,
   "metadata": {},
   "outputs": [],
   "source": []
  },
  {
   "cell_type": "markdown",
   "metadata": {},
   "source": [
    "### Extra\n",
    "- Graph to get more insight into controlling the state of the memory"
   ]
  },
  {
   "cell_type": "code",
   "execution_count": 34,
   "metadata": {},
   "outputs": [],
   "source": [
    "class AgentState(TypedDict):\n",
    "    lnode: str  # last node\n",
    "    scratch: str  # a scratchpad\n",
    "    count: Annotated[int, operator.add]  # a counter that is incremented each step"
   ]
  },
  {
   "cell_type": "code",
   "execution_count": 35,
   "metadata": {},
   "outputs": [],
   "source": [
    "def node1(state: AgentState):\n",
    "    print(f\"node1, count:{state['count']}\")\n",
    "    return {\"lnode\": \"node_1\",\n",
    "            \"count\": 1,\n",
    "           }\n",
    "def node2(state: AgentState):\n",
    "    print(f\"node2, count:{state['count']}\")\n",
    "    return {\"lnode\": \"node_2\",\n",
    "            \"count\": 1,\n",
    "           }"
   ]
  },
  {
   "cell_type": "code",
   "execution_count": 36,
   "metadata": {},
   "outputs": [],
   "source": [
    "def should_continue(state):\n",
    "    return state[\"count\"] < 3\n",
    "\n",
    "\n",
    "# node1 -> node2 -> node1 ... breaks after count reaches to 3"
   ]
  },
  {
   "cell_type": "code",
   "execution_count": 37,
   "metadata": {},
   "outputs": [],
   "source": [
    "builder = StateGraph(AgentState)\n",
    "builder.add_node(\"Node1\", node1)\n",
    "builder.add_node(\"Node2\", node2)\n",
    "\n",
    "builder.add_edge(\"Node1\", \"Node2\")\n",
    "builder.add_conditional_edges(\n",
    "    \"Node2\", \n",
    "    should_continue, \n",
    "    {\n",
    "        True: \"Node1\", \n",
    "        False: END\n",
    "    }\n",
    ")\n",
    "builder.set_entry_point(\"Node1\")"
   ]
  },
  {
   "cell_type": "code",
   "execution_count": 38,
   "metadata": {},
   "outputs": [
    {
     "data": {
      "image/jpeg": "[encoded data removed]",
      "text/plain": [
       "<IPython.core.display.Image object>"
      ]
     },
     "metadata": {},
     "output_type": "display_data"
    }
   ],
   "source": [
    "memory = SqliteSaver.from_conn_string(\":memory:\")\n",
    "graph = builder.compile(checkpointer=memory)\n",
    "\n",
    "from IPython.display import Image, display\n",
    "display(Image(graph.get_graph(xray=True).draw_mermaid_png()))"
   ]
  },
  {
   "cell_type": "code",
   "execution_count": 39,
   "metadata": {},
   "outputs": [
    {
     "name": "stdout",
     "output_type": "stream",
     "text": [
      "node1, count:0\n",
      "node2, count:1\n",
      "node1, count:2\n",
      "node2, count:3\n"
     ]
    },
    {
     "data": {
      "text/plain": [
       "{'lnode': 'node_2', 'scratch': 'hi', 'count': 4}"
      ]
     },
     "execution_count": 39,
     "metadata": {},
     "output_type": "execute_result"
    }
   ],
   "source": [
    "thread = {\"configurable\": {\"thread_id\": str(1)}}\n",
    "graph.invoke({\"count\":0, \"scratch\":\"hi\"},thread)"
   ]
  },
  {
   "cell_type": "code",
   "execution_count": 40,
   "metadata": {},
   "outputs": [
    {
     "data": {
      "text/plain": [
       "StateSnapshot(values={'lnode': 'node_2', 'scratch': 'hi', 'count': 4}, next=(), config={'configurable': {'thread_id': '1', 'thread_ts': '1ef54a8c-c342-66fe-8004-13816a73540a'}}, metadata={'source': 'loop', 'step': 4, 'writes': {'Node2': {'count': 1, 'lnode': 'node_2'}}}, parent_config={'configurable': {'thread_id': '1', 'thread_ts': '1ef54a8c-c33d-6c1c-8003-6565c7c73482'}})"
      ]
     },
     "execution_count": 40,
     "metadata": {},
     "output_type": "execute_result"
    }
   ],
   "source": [
    "# current state\n",
    "graph.get_state(thread)"
   ]
  },
  {
   "cell_type": "code",
   "execution_count": 41,
   "metadata": {},
   "outputs": [
    {
     "name": "stdout",
     "output_type": "stream",
     "text": [
      "StateSnapshot(values={'lnode': 'node_2', 'scratch': 'hi', 'count': 4}, next=(), config={'configurable': {'thread_id': '1', 'thread_ts': '1ef54a8c-c342-66fe-8004-13816a73540a'}}, metadata={'source': 'loop', 'step': 4, 'writes': {'Node2': {'count': 1, 'lnode': 'node_2'}}}, parent_config={'configurable': {'thread_id': '1', 'thread_ts': '1ef54a8c-c33d-6c1c-8003-6565c7c73482'}}) \n",
      "\n",
      "StateSnapshot(values={'lnode': 'node_1', 'scratch': 'hi', 'count': 3}, next=('Node2',), config={'configurable': {'thread_id': '1', 'thread_ts': '1ef54a8c-c33d-6c1c-8003-6565c7c73482'}}, metadata={'source': 'loop', 'step': 3, 'writes': {'Node1': {'count': 1, 'lnode': 'node_1'}}}, parent_config={'configurable': {'thread_id': '1', 'thread_ts': '1ef54a8c-c339-66a8-8002-3bdfa9ce68fe'}}) \n",
      "\n",
      "StateSnapshot(values={'lnode': 'node_2', 'scratch': 'hi', 'count': 2}, next=('Node1',), config={'configurable': {'thread_id': '1', 'thread_ts': '1ef54a8c-c339-66a8-8002-3bdfa9ce68fe'}}, metadata={'source': 'loop', 'step': 2, 'writes': {'Node2': {'count': 1, 'lnode': 'node_2'}}}, parent_config={'configurable': {'thread_id': '1', 'thread_ts': '1ef54a8c-c332-6bf0-8001-f432e89b56eb'}}) \n",
      "\n",
      "StateSnapshot(values={'lnode': 'node_1', 'scratch': 'hi', 'count': 1}, next=('Node2',), config={'configurable': {'thread_id': '1', 'thread_ts': '1ef54a8c-c332-6bf0-8001-f432e89b56eb'}}, metadata={'source': 'loop', 'step': 1, 'writes': {'Node1': {'count': 1, 'lnode': 'node_1'}}}, parent_config={'configurable': {'thread_id': '1', 'thread_ts': '1ef54a8c-c32c-655c-8000-15ece73d67e8'}}) \n",
      "\n",
      "StateSnapshot(values={'scratch': 'hi', 'count': 0}, next=('Node1',), config={'configurable': {'thread_id': '1', 'thread_ts': '1ef54a8c-c32c-655c-8000-15ece73d67e8'}}, metadata={'source': 'loop', 'step': 0, 'writes': None}, parent_config={'configurable': {'thread_id': '1', 'thread_ts': '1ef54a8c-c329-66ea-bfff-3d1a073db090'}}) \n",
      "\n",
      "StateSnapshot(values={'count': 0}, next=('__start__',), config={'configurable': {'thread_id': '1', 'thread_ts': '1ef54a8c-c329-66ea-bfff-3d1a073db090'}}, metadata={'source': 'input', 'step': -1, 'writes': {'count': 0, 'scratch': 'hi'}}, parent_config=None) \n",
      "\n"
     ]
    }
   ],
   "source": [
    "# state history\n",
    "for state in graph.get_state_history(thread):\n",
    "    print(state, \"\\n\")"
   ]
  },
  {
   "cell_type": "code",
   "execution_count": 42,
   "metadata": {},
   "outputs": [
    {
     "name": "stdout",
     "output_type": "stream",
     "text": [
      "{'configurable': {'thread_id': '1', 'thread_ts': '1ef54a8c-c342-66fe-8004-13816a73540a'}} 4\n",
      "{'configurable': {'thread_id': '1', 'thread_ts': '1ef54a8c-c33d-6c1c-8003-6565c7c73482'}} 3\n",
      "{'configurable': {'thread_id': '1', 'thread_ts': '1ef54a8c-c339-66a8-8002-3bdfa9ce68fe'}} 2\n",
      "{'configurable': {'thread_id': '1', 'thread_ts': '1ef54a8c-c332-6bf0-8001-f432e89b56eb'}} 1\n",
      "{'configurable': {'thread_id': '1', 'thread_ts': '1ef54a8c-c32c-655c-8000-15ece73d67e8'}} 0\n",
      "{'configurable': {'thread_id': '1', 'thread_ts': '1ef54a8c-c329-66ea-bfff-3d1a073db090'}} 0\n"
     ]
    }
   ],
   "source": [
    "states = []\n",
    "for state in graph.get_state_history(thread):\n",
    "    states.append(state.config)\n",
    "    print(state.config, state.values['count'])"
   ]
  },
  {
   "cell_type": "code",
   "execution_count": 43,
   "metadata": {},
   "outputs": [
    {
     "data": {
      "text/plain": [
       "{'configurable': {'thread_id': '1',\n",
       "  'thread_ts': '1ef54a8c-c332-6bf0-8001-f432e89b56eb'}}"
      ]
     },
     "execution_count": 43,
     "metadata": {},
     "output_type": "execute_result"
    }
   ],
   "source": [
    "states[-3]"
   ]
  },
  {
   "cell_type": "code",
   "execution_count": 44,
   "metadata": {},
   "outputs": [
    {
     "data": {
      "text/plain": [
       "StateSnapshot(values={'lnode': 'node_1', 'scratch': 'hi', 'count': 1}, next=('Node2',), config={'configurable': {'thread_id': '1', 'thread_ts': '1ef54a8c-c332-6bf0-8001-f432e89b56eb'}}, metadata={'source': 'loop', 'step': 1, 'writes': {'Node1': {'count': 1, 'lnode': 'node_1'}}}, parent_config={'configurable': {'thread_id': '1', 'thread_ts': '1ef54a8c-c32c-655c-8000-15ece73d67e8'}})"
      ]
     },
     "execution_count": 44,
     "metadata": {},
     "output_type": "execute_result"
    }
   ],
   "source": [
    "graph.get_state(states[-3])"
   ]
  },
  {
   "cell_type": "code",
   "execution_count": 45,
   "metadata": {},
   "outputs": [
    {
     "name": "stdout",
     "output_type": "stream",
     "text": [
      "node2, count:1\n",
      "node1, count:2\n",
      "node2, count:3\n"
     ]
    },
    {
     "data": {
      "text/plain": [
       "{'lnode': 'node_2', 'scratch': 'hi', 'count': 4}"
      ]
     },
     "execution_count": 45,
     "metadata": {},
     "output_type": "execute_result"
    }
   ],
   "source": [
    "## go back in time\n",
    "\n",
    "graph.invoke(None, states[-3])"
   ]
  },
  {
   "cell_type": "code",
   "execution_count": 46,
   "metadata": {},
   "outputs": [
    {
     "name": "stdout",
     "output_type": "stream",
     "text": [
      "{'configurable': {'thread_id': '1', 'thread_ts': '1ef54a8f-b630-6cb0-8004-ca8c70060959'}} 4\n",
      "{'configurable': {'thread_id': '1', 'thread_ts': '1ef54a8f-b62c-6bce-8003-daf9dac14f99'}} 3\n",
      "{'configurable': {'thread_id': '1', 'thread_ts': '1ef54a8f-b629-61a4-8002-56be406bf682'}} 2\n",
      "{'configurable': {'thread_id': '1', 'thread_ts': '1ef54a8c-c342-66fe-8004-13816a73540a'}} 4\n",
      "{'configurable': {'thread_id': '1', 'thread_ts': '1ef54a8c-c33d-6c1c-8003-6565c7c73482'}} 3\n",
      "{'configurable': {'thread_id': '1', 'thread_ts': '1ef54a8c-c339-66a8-8002-3bdfa9ce68fe'}} 2\n",
      "{'configurable': {'thread_id': '1', 'thread_ts': '1ef54a8c-c332-6bf0-8001-f432e89b56eb'}} 1\n",
      "{'configurable': {'thread_id': '1', 'thread_ts': '1ef54a8c-c32c-655c-8000-15ece73d67e8'}} 0\n",
      "{'configurable': {'thread_id': '1', 'thread_ts': '1ef54a8c-c329-66ea-bfff-3d1a073db090'}} 0\n"
     ]
    }
   ],
   "source": [
    "thread = {\"configurable\": {\"thread_id\": str(1)}}\n",
    "for state in graph.get_state_history(thread):\n",
    "    print(state.config, state.values['count'])"
   ]
  },
  {
   "cell_type": "code",
   "execution_count": 47,
   "metadata": {},
   "outputs": [
    {
     "name": "stdout",
     "output_type": "stream",
     "text": [
      "StateSnapshot(values={'lnode': 'node_2', 'scratch': 'hi', 'count': 4}, next=(), config={'configurable': {'thread_id': '1', 'thread_ts': '1ef54a8f-b630-6cb0-8004-ca8c70060959'}}, metadata={'source': 'loop', 'step': 4, 'writes': {'Node2': {'count': 1, 'lnode': 'node_2'}}}, parent_config={'configurable': {'thread_id': '1', 'thread_ts': '1ef54a8f-b62c-6bce-8003-daf9dac14f99'}}) \n",
      "\n",
      "StateSnapshot(values={'lnode': 'node_1', 'scratch': 'hi', 'count': 3}, next=('Node2',), config={'configurable': {'thread_id': '1', 'thread_ts': '1ef54a8f-b62c-6bce-8003-daf9dac14f99'}}, metadata={'source': 'loop', 'step': 3, 'writes': {'Node1': {'count': 1, 'lnode': 'node_1'}}}, parent_config={'configurable': {'thread_id': '1', 'thread_ts': '1ef54a8f-b629-61a4-8002-56be406bf682'}}) \n",
      "\n",
      "StateSnapshot(values={'lnode': 'node_2', 'scratch': 'hi', 'count': 2}, next=('Node1',), config={'configurable': {'thread_id': '1', 'thread_ts': '1ef54a8f-b629-61a4-8002-56be406bf682'}}, metadata={'source': 'loop', 'step': 2, 'writes': {'Node2': {'count': 1, 'lnode': 'node_2'}}}, parent_config={'configurable': {'thread_id': '1', 'thread_ts': '1ef54a8c-c332-6bf0-8001-f432e89b56eb'}}) \n",
      "\n",
      "StateSnapshot(values={'lnode': 'node_2', 'scratch': 'hi', 'count': 4}, next=(), config={'configurable': {'thread_id': '1', 'thread_ts': '1ef54a8c-c342-66fe-8004-13816a73540a'}}, metadata={'source': 'loop', 'step': 4, 'writes': {'Node2': {'count': 1, 'lnode': 'node_2'}}}, parent_config={'configurable': {'thread_id': '1', 'thread_ts': '1ef54a8c-c33d-6c1c-8003-6565c7c73482'}}) \n",
      "\n",
      "StateSnapshot(values={'lnode': 'node_1', 'scratch': 'hi', 'count': 3}, next=('Node2',), config={'configurable': {'thread_id': '1', 'thread_ts': '1ef54a8c-c33d-6c1c-8003-6565c7c73482'}}, metadata={'source': 'loop', 'step': 3, 'writes': {'Node1': {'count': 1, 'lnode': 'node_1'}}}, parent_config={'configurable': {'thread_id': '1', 'thread_ts': '1ef54a8c-c339-66a8-8002-3bdfa9ce68fe'}}) \n",
      "\n",
      "StateSnapshot(values={'lnode': 'node_2', 'scratch': 'hi', 'count': 2}, next=('Node1',), config={'configurable': {'thread_id': '1', 'thread_ts': '1ef54a8c-c339-66a8-8002-3bdfa9ce68fe'}}, metadata={'source': 'loop', 'step': 2, 'writes': {'Node2': {'count': 1, 'lnode': 'node_2'}}}, parent_config={'configurable': {'thread_id': '1', 'thread_ts': '1ef54a8c-c332-6bf0-8001-f432e89b56eb'}}) \n",
      "\n",
      "StateSnapshot(values={'lnode': 'node_1', 'scratch': 'hi', 'count': 1}, next=('Node2',), config={'configurable': {'thread_id': '1', 'thread_ts': '1ef54a8c-c332-6bf0-8001-f432e89b56eb'}}, metadata={'source': 'loop', 'step': 1, 'writes': {'Node1': {'count': 1, 'lnode': 'node_1'}}}, parent_config={'configurable': {'thread_id': '1', 'thread_ts': '1ef54a8c-c32c-655c-8000-15ece73d67e8'}}) \n",
      "\n",
      "StateSnapshot(values={'scratch': 'hi', 'count': 0}, next=('Node1',), config={'configurable': {'thread_id': '1', 'thread_ts': '1ef54a8c-c32c-655c-8000-15ece73d67e8'}}, metadata={'source': 'loop', 'step': 0, 'writes': None}, parent_config={'configurable': {'thread_id': '1', 'thread_ts': '1ef54a8c-c329-66ea-bfff-3d1a073db090'}}) \n",
      "\n",
      "StateSnapshot(values={'count': 0}, next=('__start__',), config={'configurable': {'thread_id': '1', 'thread_ts': '1ef54a8c-c329-66ea-bfff-3d1a073db090'}}, metadata={'source': 'input', 'step': -1, 'writes': {'count': 0, 'scratch': 'hi'}}, parent_config=None) \n",
      "\n"
     ]
    }
   ],
   "source": [
    "thread = {\"configurable\": {\"thread_id\": str(1)}}\n",
    "for state in graph.get_state_history(thread):\n",
    "    print(state,\"\\n\")"
   ]
  },
  {
   "cell_type": "code",
   "execution_count": 48,
   "metadata": {},
   "outputs": [
    {
     "name": "stdout",
     "output_type": "stream",
     "text": [
      "node1, count:0\n",
      "node2, count:1\n",
      "node1, count:2\n",
      "node2, count:3\n"
     ]
    },
    {
     "data": {
      "text/plain": [
       "{'lnode': 'node_2', 'scratch': 'hi', 'count': 4}"
      ]
     },
     "execution_count": 48,
     "metadata": {},
     "output_type": "execute_result"
    }
   ],
   "source": [
    "## modify state\n",
    "thread2 = {\"configurable\": {\"thread_id\": str(2)}}\n",
    "graph.invoke({\"count\":0, \"scratch\":\"hi\"},thread2)"
   ]
  },
  {
   "cell_type": "code",
   "execution_count": 50,
   "metadata": {},
   "outputs": [
    {
     "data": {
      "image/jpeg": "[encoded data removed]",
      "text/plain": [
       "<IPython.core.display.Image object>"
      ]
     },
     "metadata": {},
     "output_type": "display_data"
    }
   ],
   "source": [
    "display(Image(graph.get_graph(xray=True).draw_mermaid_png()))"
   ]
  },
  {
   "cell_type": "code",
   "execution_count": 51,
   "metadata": {},
   "outputs": [
    {
     "name": "stdout",
     "output_type": "stream",
     "text": [
      "{'configurable': {'thread_id': '2', 'thread_ts': '1ef54a91-4975-602e-8004-008fb04554a4'}} 4\n",
      "{'configurable': {'thread_id': '2', 'thread_ts': '1ef54a91-496d-6d2e-8003-11f88d449f8a'}} 3\n",
      "{'configurable': {'thread_id': '2', 'thread_ts': '1ef54a91-496a-607a-8002-e59d12ef088b'}} 2\n",
      "{'configurable': {'thread_id': '2', 'thread_ts': '1ef54a91-4962-6e06-8001-690313847f7f'}} 1\n",
      "{'configurable': {'thread_id': '2', 'thread_ts': '1ef54a91-495b-67c8-8000-67d511f0be94'}} 0\n",
      "{'configurable': {'thread_id': '2', 'thread_ts': '1ef54a91-4956-6462-bfff-bcd1fbbdd9ef'}} 0\n"
     ]
    }
   ],
   "source": [
    "states2 = []\n",
    "for state in graph.get_state_history(thread2):\n",
    "    states2.append(state.config)\n",
    "    print(state.config, state.values['count'])   "
   ]
  },
  {
   "cell_type": "code",
   "execution_count": 52,
   "metadata": {},
   "outputs": [
    {
     "data": {
      "text/plain": [
       "StateSnapshot(values={'lnode': 'node_1', 'scratch': 'hi', 'count': 1}, next=('Node2',), config={'configurable': {'thread_id': '2', 'thread_ts': '1ef54a91-4962-6e06-8001-690313847f7f'}}, metadata={'source': 'loop', 'step': 1, 'writes': {'Node1': {'count': 1, 'lnode': 'node_1'}}}, parent_config={'configurable': {'thread_id': '2', 'thread_ts': '1ef54a91-495b-67c8-8000-67d511f0be94'}})"
      ]
     },
     "execution_count": 52,
     "metadata": {},
     "output_type": "execute_result"
    }
   ],
   "source": [
    "save_state = graph.get_state(states2[-3])\n",
    "save_state"
   ]
  },
  {
   "cell_type": "code",
   "execution_count": 53,
   "metadata": {},
   "outputs": [
    {
     "data": {
      "text/plain": [
       "StateSnapshot(values={'lnode': 'node_1', 'scratch': 'hello', 'count': -3}, next=('Node2',), config={'configurable': {'thread_id': '2', 'thread_ts': '1ef54a91-4962-6e06-8001-690313847f7f'}}, metadata={'source': 'loop', 'step': 1, 'writes': {'Node1': {'count': 1, 'lnode': 'node_1'}}}, parent_config={'configurable': {'thread_id': '2', 'thread_ts': '1ef54a91-495b-67c8-8000-67d511f0be94'}})"
      ]
     },
     "execution_count": 53,
     "metadata": {},
     "output_type": "execute_result"
    }
   ],
   "source": [
    "save_state.values[\"count\"] = -3\n",
    "save_state.values[\"scratch\"] = \"hello\"\n",
    "save_state"
   ]
  },
  {
   "cell_type": "code",
   "execution_count": 54,
   "metadata": {},
   "outputs": [
    {
     "data": {
      "text/plain": [
       "{'configurable': {'thread_id': '2',\n",
       "  'thread_ts': '1ef54a94-bf91-605c-8005-51f8c1fe9e32'}}"
      ]
     },
     "execution_count": 54,
     "metadata": {},
     "output_type": "execute_result"
    }
   ],
   "source": [
    "graph.update_state(thread2,save_state.values)"
   ]
  },
  {
   "cell_type": "code",
   "execution_count": 55,
   "metadata": {},
   "outputs": [
    {
     "name": "stdout",
     "output_type": "stream",
     "text": [
      "StateSnapshot(values={'lnode': 'node_1', 'scratch': 'hello', 'count': 1}, next=('Node1',), config={'configurable': {'thread_id': '2', 'thread_ts': '1ef54a94-bf91-605c-8005-51f8c1fe9e32'}}, metadata={'source': 'update', 'step': 5, 'writes': {'Node2': {'count': -3, 'lnode': 'node_1', 'scratch': 'hello'}}}, parent_config={'configurable': {'thread_id': '2', 'thread_ts': '1ef54a91-4975-602e-8004-008fb04554a4'}}) \n",
      "\n",
      "StateSnapshot(values={'lnode': 'node_2', 'scratch': 'hi', 'count': 4}, next=(), config={'configurable': {'thread_id': '2', 'thread_ts': '1ef54a91-4975-602e-8004-008fb04554a4'}}, metadata={'source': 'loop', 'step': 4, 'writes': {'Node2': {'count': 1, 'lnode': 'node_2'}}}, parent_config={'configurable': {'thread_id': '2', 'thread_ts': '1ef54a91-496d-6d2e-8003-11f88d449f8a'}}) \n",
      "\n",
      "StateSnapshot(values={'lnode': 'node_1', 'scratch': 'hi', 'count': 3}, next=('Node2',), config={'configurable': {'thread_id': '2', 'thread_ts': '1ef54a91-496d-6d2e-8003-11f88d449f8a'}}, metadata={'source': 'loop', 'step': 3, 'writes': {'Node1': {'count': 1, 'lnode': 'node_1'}}}, parent_config={'configurable': {'thread_id': '2', 'thread_ts': '1ef54a91-496a-607a-8002-e59d12ef088b'}}) \n",
      "\n"
     ]
    }
   ],
   "source": [
    "for i, state in enumerate(graph.get_state_history(thread2)):\n",
    "    if i >= 3:  #print latest 3\n",
    "        break\n",
    "    print(state, '\\n')"
   ]
  },
  {
   "cell_type": "code",
   "execution_count": 56,
   "metadata": {},
   "outputs": [
    {
     "data": {
      "text/plain": [
       "{'configurable': {'thread_id': '2',\n",
       "  'thread_ts': '1ef54a95-7351-6236-8006-14f8364d3816'}}"
      ]
     },
     "execution_count": 56,
     "metadata": {},
     "output_type": "execute_result"
    }
   ],
   "source": [
    "# try again with as_node\n",
    "\n",
    "graph.update_state(thread2,save_state.values, as_node=\"Node1\")"
   ]
  },
  {
   "cell_type": "code",
   "execution_count": 57,
   "metadata": {},
   "outputs": [
    {
     "name": "stdout",
     "output_type": "stream",
     "text": [
      "StateSnapshot(values={'lnode': 'node_1', 'scratch': 'hello', 'count': -2}, next=('Node2',), config={'configurable': {'thread_id': '2', 'thread_ts': '1ef54a95-7351-6236-8006-14f8364d3816'}}, metadata={'source': 'update', 'step': 6, 'writes': {'Node1': {'count': -3, 'lnode': 'node_1', 'scratch': 'hello'}}}, parent_config={'configurable': {'thread_id': '2', 'thread_ts': '1ef54a94-bf91-605c-8005-51f8c1fe9e32'}}) \n",
      "\n",
      "StateSnapshot(values={'lnode': 'node_1', 'scratch': 'hello', 'count': 1}, next=('Node1',), config={'configurable': {'thread_id': '2', 'thread_ts': '1ef54a94-bf91-605c-8005-51f8c1fe9e32'}}, metadata={'source': 'update', 'step': 5, 'writes': {'Node2': {'count': -3, 'lnode': 'node_1', 'scratch': 'hello'}}}, parent_config={'configurable': {'thread_id': '2', 'thread_ts': '1ef54a91-4975-602e-8004-008fb04554a4'}}) \n",
      "\n",
      "StateSnapshot(values={'lnode': 'node_2', 'scratch': 'hi', 'count': 4}, next=(), config={'configurable': {'thread_id': '2', 'thread_ts': '1ef54a91-4975-602e-8004-008fb04554a4'}}, metadata={'source': 'loop', 'step': 4, 'writes': {'Node2': {'count': 1, 'lnode': 'node_2'}}}, parent_config={'configurable': {'thread_id': '2', 'thread_ts': '1ef54a91-496d-6d2e-8003-11f88d449f8a'}}) \n",
      "\n"
     ]
    }
   ],
   "source": [
    "for i, state in enumerate(graph.get_state_history(thread2)):\n",
    "    if i >= 3:  #print latest 3\n",
    "        break\n",
    "    print(state, '\\n')"
   ]
  },
  {
   "cell_type": "code",
   "execution_count": 58,
   "metadata": {},
   "outputs": [
    {
     "name": "stdout",
     "output_type": "stream",
     "text": [
      "node2, count:-2\n",
      "node1, count:-1\n",
      "node2, count:0\n",
      "node1, count:1\n",
      "node2, count:2\n"
     ]
    },
    {
     "data": {
      "text/plain": [
       "{'lnode': 'node_2', 'scratch': 'hello', 'count': 3}"
      ]
     },
     "execution_count": 58,
     "metadata": {},
     "output_type": "execute_result"
    }
   ],
   "source": [
    "graph.invoke(None,thread2)"
   ]
  },
  {
   "cell_type": "code",
   "execution_count": 59,
   "metadata": {},
   "outputs": [
    {
     "name": "stdout",
     "output_type": "stream",
     "text": [
      "StateSnapshot(values={'lnode': 'node_2', 'scratch': 'hello', 'count': 3}, next=(), config={'configurable': {'thread_id': '2', 'thread_ts': '1ef54a96-4e44-6230-800b-151e38a2f101'}}, metadata={'source': 'loop', 'step': 11, 'writes': {'Node2': {'count': 1, 'lnode': 'node_2'}}}, parent_config={'configurable': {'thread_id': '2', 'thread_ts': '1ef54a96-4e3f-606e-800a-e6a6a2c99abc'}}) \n",
      "\n",
      "StateSnapshot(values={'lnode': 'node_1', 'scratch': 'hello', 'count': 2}, next=('Node2',), config={'configurable': {'thread_id': '2', 'thread_ts': '1ef54a96-4e3f-606e-800a-e6a6a2c99abc'}}, metadata={'source': 'loop', 'step': 10, 'writes': {'Node1': {'count': 1, 'lnode': 'node_1'}}}, parent_config={'configurable': {'thread_id': '2', 'thread_ts': '1ef54a96-4e3b-614e-8009-126bae95bf52'}}) \n",
      "\n",
      "StateSnapshot(values={'lnode': 'node_2', 'scratch': 'hello', 'count': 1}, next=('Node1',), config={'configurable': {'thread_id': '2', 'thread_ts': '1ef54a96-4e3b-614e-8009-126bae95bf52'}}, metadata={'source': 'loop', 'step': 9, 'writes': {'Node2': {'count': 1, 'lnode': 'node_2'}}}, parent_config={'configurable': {'thread_id': '2', 'thread_ts': '1ef54a96-4e34-689e-8008-0c9dd9b25145'}}) \n",
      "\n",
      "StateSnapshot(values={'lnode': 'node_1', 'scratch': 'hello', 'count': 0}, next=('Node2',), config={'configurable': {'thread_id': '2', 'thread_ts': '1ef54a96-4e34-689e-8008-0c9dd9b25145'}}, metadata={'source': 'loop', 'step': 8, 'writes': {'Node1': {'count': 1, 'lnode': 'node_1'}}}, parent_config={'configurable': {'thread_id': '2', 'thread_ts': '1ef54a96-4e2e-6bec-8007-e0b74e901065'}}) \n",
      "\n",
      "StateSnapshot(values={'lnode': 'node_2', 'scratch': 'hello', 'count': -1}, next=('Node1',), config={'configurable': {'thread_id': '2', 'thread_ts': '1ef54a96-4e2e-6bec-8007-e0b74e901065'}}, metadata={'source': 'loop', 'step': 7, 'writes': {'Node2': {'count': 1, 'lnode': 'node_2'}}}, parent_config={'configurable': {'thread_id': '2', 'thread_ts': '1ef54a95-7351-6236-8006-14f8364d3816'}}) \n",
      "\n",
      "StateSnapshot(values={'lnode': 'node_1', 'scratch': 'hello', 'count': -2}, next=('Node2',), config={'configurable': {'thread_id': '2', 'thread_ts': '1ef54a95-7351-6236-8006-14f8364d3816'}}, metadata={'source': 'update', 'step': 6, 'writes': {'Node1': {'count': -3, 'lnode': 'node_1', 'scratch': 'hello'}}}, parent_config={'configurable': {'thread_id': '2', 'thread_ts': '1ef54a94-bf91-605c-8005-51f8c1fe9e32'}}) \n",
      "\n",
      "StateSnapshot(values={'lnode': 'node_1', 'scratch': 'hello', 'count': 1}, next=('Node1',), config={'configurable': {'thread_id': '2', 'thread_ts': '1ef54a94-bf91-605c-8005-51f8c1fe9e32'}}, metadata={'source': 'update', 'step': 5, 'writes': {'Node2': {'count': -3, 'lnode': 'node_1', 'scratch': 'hello'}}}, parent_config={'configurable': {'thread_id': '2', 'thread_ts': '1ef54a91-4975-602e-8004-008fb04554a4'}}) \n",
      "\n",
      "StateSnapshot(values={'lnode': 'node_2', 'scratch': 'hi', 'count': 4}, next=(), config={'configurable': {'thread_id': '2', 'thread_ts': '1ef54a91-4975-602e-8004-008fb04554a4'}}, metadata={'source': 'loop', 'step': 4, 'writes': {'Node2': {'count': 1, 'lnode': 'node_2'}}}, parent_config={'configurable': {'thread_id': '2', 'thread_ts': '1ef54a91-496d-6d2e-8003-11f88d449f8a'}}) \n",
      "\n",
      "StateSnapshot(values={'lnode': 'node_1', 'scratch': 'hi', 'count': 3}, next=('Node2',), config={'configurable': {'thread_id': '2', 'thread_ts': '1ef54a91-496d-6d2e-8003-11f88d449f8a'}}, metadata={'source': 'loop', 'step': 3, 'writes': {'Node1': {'count': 1, 'lnode': 'node_1'}}}, parent_config={'configurable': {'thread_id': '2', 'thread_ts': '1ef54a91-496a-607a-8002-e59d12ef088b'}}) \n",
      "\n",
      "StateSnapshot(values={'lnode': 'node_2', 'scratch': 'hi', 'count': 2}, next=('Node1',), config={'configurable': {'thread_id': '2', 'thread_ts': '1ef54a91-496a-607a-8002-e59d12ef088b'}}, metadata={'source': 'loop', 'step': 2, 'writes': {'Node2': {'count': 1, 'lnode': 'node_2'}}}, parent_config={'configurable': {'thread_id': '2', 'thread_ts': '1ef54a91-4962-6e06-8001-690313847f7f'}}) \n",
      "\n",
      "StateSnapshot(values={'lnode': 'node_1', 'scratch': 'hi', 'count': 1}, next=('Node2',), config={'configurable': {'thread_id': '2', 'thread_ts': '1ef54a91-4962-6e06-8001-690313847f7f'}}, metadata={'source': 'loop', 'step': 1, 'writes': {'Node1': {'count': 1, 'lnode': 'node_1'}}}, parent_config={'configurable': {'thread_id': '2', 'thread_ts': '1ef54a91-495b-67c8-8000-67d511f0be94'}}) \n",
      "\n",
      "StateSnapshot(values={'scratch': 'hi', 'count': 0}, next=('Node1',), config={'configurable': {'thread_id': '2', 'thread_ts': '1ef54a91-495b-67c8-8000-67d511f0be94'}}, metadata={'source': 'loop', 'step': 0, 'writes': None}, parent_config={'configurable': {'thread_id': '2', 'thread_ts': '1ef54a91-4956-6462-bfff-bcd1fbbdd9ef'}}) \n",
      "\n",
      "StateSnapshot(values={'count': 0}, next=('__start__',), config={'configurable': {'thread_id': '2', 'thread_ts': '1ef54a91-4956-6462-bfff-bcd1fbbdd9ef'}}, metadata={'source': 'input', 'step': -1, 'writes': {'count': 0, 'scratch': 'hi'}}, parent_config=None) \n",
      "\n"
     ]
    }
   ],
   "source": [
    "for state in graph.get_state_history(thread2):\n",
    "    print(state,\"\\n\")"
   ]
  },
  {
   "cell_type": "code",
   "execution_count": null,
   "metadata": {},
   "outputs": [],
   "source": []
  }
 ],
 "metadata": {
  "kernelspec": {
   "display_name": "env_exp",
   "language": "python",
   "name": "python3"
  },
  "language_info": {
   "codemirror_mode": {
    "name": "ipython",
    "version": 3
   },
   "file_extension": ".py",
   "mimetype": "text/x-python",
   "name": "python",
   "nbconvert_exporter": "python",
   "pygments_lexer": "ipython3",
   "version": "3.11.7"
  }
 },
 "nbformat": 4,
 "nbformat_minor": 2
}
